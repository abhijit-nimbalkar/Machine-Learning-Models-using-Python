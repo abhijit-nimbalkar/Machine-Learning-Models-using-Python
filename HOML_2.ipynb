{
 "cells": [
  {
   "cell_type": "code",
   "execution_count": 36,
   "metadata": {},
   "outputs": [],
   "source": [
    "import pandas as pd\n",
    "import numpy as np\n",
    "import matplotlib as mpl\n",
    "import matplotlib.pyplot as plt\n",
    "import warnings\n",
    "warnings.filterwarnings('ignore')\n",
    "\n",
    "from sklearn.datasets import fetch_openml\n",
    "from sklearn.linear_model import SGDClassifier\n",
    "from sklearn.model_selection import cross_val_score, cross_val_predict"
   ]
  },
  {
   "cell_type": "code",
   "execution_count": 37,
   "metadata": {},
   "outputs": [],
   "source": [
    "mnist=fetch_openml('mnist_784',version=1)"
   ]
  },
  {
   "cell_type": "code",
   "execution_count": 38,
   "metadata": {},
   "outputs": [],
   "source": [
    "X,y=mnist['data'],mnist['target']"
   ]
  },
  {
   "cell_type": "code",
   "execution_count": 39,
   "metadata": {},
   "outputs": [
    {
     "data": {
      "image/png": "[encoded data removed]",
      "text/plain": [
       "<Figure size 432x288 with 1 Axes>"
      ]
     },
     "metadata": {
      "needs_background": "light"
     },
     "output_type": "display_data"
    }
   ],
   "source": [
    "image=X[0].reshape(28,28) \n",
    "plt.imshow(image,cmap=mpl.cm.binary,interpolation='nearest')\n",
    "plt.axis('off')\n",
    "plt.show()"
   ]
  },
  {
   "cell_type": "code",
   "execution_count": 40,
   "metadata": {},
   "outputs": [],
   "source": [
    "y=y.astype(np.uint8)"
   ]
  },
  {
   "cell_type": "markdown",
   "metadata": {},
   "source": [
    "#splitting the datasets"
   ]
  },
  {
   "cell_type": "code",
   "execution_count": 41,
   "metadata": {},
   "outputs": [],
   "source": [
    "X_train,X_test,y_train,y_test=X[:60000],X[60000:],y[:60000],y[60000:]"
   ]
  },
  {
   "cell_type": "code",
   "execution_count": 42,
   "metadata": {},
   "outputs": [],
   "source": [
    "y_train_5=(y_train==5)\n",
    "y_test_5=(y_test==5)"
   ]
  },
  {
   "cell_type": "markdown",
   "metadata": {},
   "source": [
    "Here we will train our model using Stocastic Gradient Descent(SGD) classifier to test for 5"
   ]
  },
  {
   "cell_type": "code",
   "execution_count": 43,
   "metadata": {},
   "outputs": [
    {
     "data": {
      "text/plain": [
       "SGDClassifier(alpha=0.0001, average=False, class_weight=None,\n",
       "       early_stopping=False, epsilon=0.1, eta0=0.0, fit_intercept=True,\n",
       "       l1_ratio=0.15, learning_rate='optimal', loss='hinge', max_iter=None,\n",
       "       n_iter=None, n_iter_no_change=5, n_jobs=None, penalty='l2',\n",
       "       power_t=0.5, random_state=42, shuffle=True, tol=None,\n",
       "       validation_fraction=0.1, verbose=0, warm_start=False)"
      ]
     },
     "execution_count": 43,
     "metadata": {},
     "output_type": "execute_result"
    }
   ],
   "source": [
    "sgd=SGDClassifier(random_state=42)\n",
    "sgd.fit(X_train,y_train_5)"
   ]
  },
  {
   "cell_type": "code",
   "execution_count": 44,
   "metadata": {},
   "outputs": [],
   "source": [
    "def display_scores(scores):\n",
    "    print(f\"Score:{scores}\\nMean Score:{np.multiply(scores.mean(),100)}\\nStandard Deviation:{np.multiply(scores.std(),100)}\")"
   ]
  },
  {
   "cell_type": "code",
   "execution_count": 45,
   "metadata": {},
   "outputs": [
    {
     "name": "stdout",
     "output_type": "stream",
     "text": [
      "Score:[0.9532  0.95125 0.9625 ]\n",
      "Mean Score:95.565\n",
      "Standard Deviation:0.49086658065099426\n"
     ]
    }
   ],
   "source": [
    "some_digit=X[0]\n",
    "sgd.predict([some_digit])\n",
    "scores=cross_val_score(sgd, X_train, y_train_5, scoring=\"accuracy\", cv=3)\n",
    "display_scores(scores)"
   ]
  },
  {
   "cell_type": "code",
   "execution_count": 46,
   "metadata": {},
   "outputs": [
    {
     "name": "stdout",
     "output_type": "stream",
     "text": [
      "Score:[0.91125 0.90855 0.90915]\n",
      "Mean Score:90.96499999999999\n",
      "Standard Deviation:0.11575836902790325\n"
     ]
    }
   ],
   "source": [
    "from sklearn.base import BaseEstimator\n",
    "\n",
    "class Never5Classifier(BaseEstimator):\n",
    "    def fit(self, X, y=None):\n",
    "        pass\n",
    "    def predict(self, X, y=None):\n",
    "        return np.zeros((len(X),1),dtype=bool)\n",
    "\n",
    "never5=Never5Classifier()\n",
    "scores=cross_val_score(never5, X_train,y_train_5,scoring=\"accuracy\",cv=3)\n",
    "display_scores(scores)"
   ]
  },
  {
   "cell_type": "code",
   "execution_count": 47,
   "metadata": {},
   "outputs": [],
   "source": [
    "y_train_predict=cross_val_predict(sgd, X_train, y_train_5, cv=3)\n"
   ]
  },
  {
   "cell_type": "code",
   "execution_count": 48,
   "metadata": {},
   "outputs": [
    {
     "data": {
      "image/png": "[encoded data removed]",
      "text/plain": [
       "<Figure size 432x288 with 1 Axes>"
      ]
     },
     "metadata": {
      "needs_background": "light"
     },
     "output_type": "display_data"
    }
   ],
   "source": [
    "fig, ax= plt.subplots()\n",
    "ax.scatter(y_train_5,y_train_predict, edgecolors=[0,0,0])\n",
    "ax.plot([y.min(),y.max()],[y.min(),y.max()],'k--',lw=4)\n",
    "ax.set_xlabel('Measured')\n",
    "ax.set_ylabel('Predicted')\n",
    "plt.show()"
   ]
  },
  {
   "cell_type": "code",
   "execution_count": 49,
   "metadata": {},
   "outputs": [
    {
     "name": "stdout",
     "output_type": "stream",
     "text": [
      "73.25581395348837 80.18815716657444 76.56538969616909\n"
     ]
    }
   ],
   "source": [
    "from sklearn.metrics import confusion_matrix, precision_score, recall_score, f1_score\n",
    "confusion_mat=confusion_matrix(y_train_5,y_train_predict)\n",
    "precision=precision_score(y_train_5,y_train_predict)\n",
    "recall=recall_score(y_train_5,y_train_predict)\n",
    "f1=f1_score(y_train_5,y_train_predict)\n",
    "print(np.multiply(precision,100),np.multiply(recall,100), np.multiply(f1,100))"
   ]
  },
  {
   "cell_type": "code",
   "execution_count": 50,
   "metadata": {},
   "outputs": [
    {
     "data": {
      "text/plain": [
       "array([ True])"
      ]
     },
     "execution_count": 50,
     "metadata": {},
     "output_type": "execute_result"
    }
   ],
   "source": [
    "y_scores=sgd.decision_function([some_digit])\n",
    "threshold=0\n",
    "y_some_digit_pred=(y_scores<threshold)\n",
    "y_some_digit_pred"
   ]
  },
  {
   "cell_type": "code",
   "execution_count": 51,
   "metadata": {},
   "outputs": [],
   "source": [
    "y_scores=cross_val_predict(sgd, X_train, y_train_5, method='decision_function', cv=3)"
   ]
  },
  {
   "cell_type": "code",
   "execution_count": 52,
   "metadata": {},
   "outputs": [
    {
     "data": {
      "text/plain": [
       "array([ 130454.39322866, -292310.89416081, -851504.62149277, ...,\n",
       "        361078.59565149, -432547.19353153, -420755.44332381])"
      ]
     },
     "execution_count": 52,
     "metadata": {},
     "output_type": "execute_result"
    }
   ],
   "source": [
    "y_scores"
   ]
  },
  {
   "cell_type": "code",
   "execution_count": 53,
   "metadata": {},
   "outputs": [],
   "source": [
    "def plot_precision_recall_curve(precision, recall, threshold):\n",
    "    ax, fig=plt.subplots(1,1,figsize=(15,7))\n",
    "    ax=plt.axes()\n",
    "    plt.plot(threshold, precision[:-1],'b--',label=\"Precision\")\n",
    "    plt.plot(threshold, recall[:-1],'g-',label='Recall')\n",
    "    ax.set_yticks(np.arange(0,1.1,0.1))\n",
    "    #ax.set_xticks(np.arange(threshold.min(),threshold.max()))\n",
    "    plt.grid()\n",
    "    ax.set_xlabel('Threshold')\n",
    "    plt.legend()"
   ]
  },
  {
   "cell_type": "code",
   "execution_count": 54,
   "metadata": {},
   "outputs": [
    {
     "data": {
      "image/png": "[encoded data removed]",
      "text/plain": [
       "<Figure size 1080x504 with 1 Axes>"
      ]
     },
     "metadata": {
      "needs_background": "light"
     },
     "output_type": "display_data"
    }
   ],
   "source": [
    "from sklearn.metrics import precision_recall_curve\n",
    "precision, recall, threshold= precision_recall_curve(y_train_5,y_scores)\n",
    "plot_precision_recall_curve(precision,recall,threshold)\n",
    "plt.show()"
   ]
  },
  {
   "cell_type": "code",
   "execution_count": 55,
   "metadata": {},
   "outputs": [
    {
     "data": {
      "text/plain": [
       "124997.76937872983"
      ]
     },
     "execution_count": 55,
     "metadata": {},
     "output_type": "execute_result"
    }
   ],
   "source": [
    "threshold_with_90_precision=threshold[np.argmax(precision>=0.90)]\n",
    "threshold_with_90_precision"
   ]
  },
  {
   "cell_type": "code",
   "execution_count": 56,
   "metadata": {},
   "outputs": [
    {
     "name": "stdout",
     "output_type": "stream",
     "text": [
      "0.9002493765586035 0.5993359158826784\n"
     ]
    }
   ],
   "source": [
    "y_train_predict_90=(y_scores>threshold_with_90_precision)\n",
    "print(precision_score(y_train_5, y_train_predict_90),recall_score(y_train_5, y_train_predict_90))"
   ]
  },
  {
   "cell_type": "code",
   "execution_count": 57,
   "metadata": {},
   "outputs": [],
   "source": [
    "def plot_roc_curve(fpr,tpr,label=None):\n",
    "    fig, ax=plt.subplots(1,1)\n",
    "    plt.plot(fpr, tpr, linewidth=2, label=label)\n",
    "    plt.plot([0,1],[0,1],'k--')\n",
    "    plt.xlim([0,1])\n",
    "    plt.ylim([0,1])\n",
    "    ax.set_xlabel('False Positive Rate(1-Specificity)')\n",
    "    ax.set_ylabel('True Positive Rate(Recall/Sensitivity)')\n",
    "    ax.grid()\n",
    "    plt.show()"
   ]
  },
  {
   "cell_type": "code",
   "execution_count": 58,
   "metadata": {},
   "outputs": [
    {
     "data": {
      "image/png": "[encoded data removed]",
      "text/plain": [
       "<Figure size 432x288 with 1 Axes>"
      ]
     },
     "metadata": {
      "needs_background": "light"
     },
     "output_type": "display_data"
    }
   ],
   "source": [
    "from sklearn.metrics import roc_curve, roc_auc_score\n",
    "fpr, tpr, threshold= roc_curve(y_train_5, y_scores)\n",
    "plot_roc_curve(fpr,tpr)"
   ]
  },
  {
   "cell_type": "code",
   "execution_count": 59,
   "metadata": {},
   "outputs": [
    {
     "data": {
      "text/plain": [
       "0.9584692857783504"
      ]
     },
     "execution_count": 59,
     "metadata": {},
     "output_type": "execute_result"
    }
   ],
   "source": [
    "roc_auc_score(y_train_5,y_scores)"
   ]
  },
  {
   "cell_type": "code",
   "execution_count": 60,
   "metadata": {},
   "outputs": [],
   "source": [
    "from sklearn.ensemble import RandomForestClassifier\n",
    "forest=RandomForestClassifier(random_state=42)\n",
    "y_forest_predict=cross_val_predict(forest, X_train, y_train_5, cv=3, method='predict_proba')\n",
    "forest_fpr, forest_tpr, probabilities = roc_curve(y_train_5, y_forest_predict[:,1])"
   ]
  },
  {
   "cell_type": "code",
   "execution_count": 61,
   "metadata": {},
   "outputs": [
    {
     "data": {
      "image/png": "[encoded data removed]",
      "text/plain": [
       "<Figure size 432x288 with 1 Axes>"
      ]
     },
     "metadata": {
      "needs_background": "light"
     },
     "output_type": "display_data"
    },
    {
     "data": {
      "image/png": "[encoded data removed]",
      "text/plain": [
       "<Figure size 432x288 with 1 Axes>"
      ]
     },
     "metadata": {
      "needs_background": "light"
     },
     "output_type": "display_data"
    }
   ],
   "source": [
    "plt.plot(fpr,tpr,\"b:\",label=\"SGD\")\n",
    "plot_roc_curve(forest_fpr,forest_tpr,\"RandomForest\")\n",
    "plt.show()"
   ]
  },
  {
   "cell_type": "code",
   "execution_count": 62,
   "metadata": {},
   "outputs": [],
   "source": [
    "from sklearn.neighbors import KNeighborsClassifier"
   ]
  },
  {
   "cell_type": "code",
   "execution_count": 63,
   "metadata": {},
   "outputs": [],
   "source": [
    "y_train_large=(y_train>=7)\n",
    "y_train_odd=(y_train%2==1)\n",
    "y_multilabel=np.c_[y_train_large,y_train_odd]"
   ]
  },
  {
   "cell_type": "code",
   "execution_count": 64,
   "metadata": {},
   "outputs": [
    {
     "data": {
      "text/plain": [
       "KNeighborsClassifier(algorithm='auto', leaf_size=30, metric='minkowski',\n",
       "           metric_params=None, n_jobs=None, n_neighbors=5, p=2,\n",
       "           weights='uniform')"
      ]
     },
     "execution_count": 64,
     "metadata": {},
     "output_type": "execute_result"
    }
   ],
   "source": [
    "knn_clf=KNeighborsClassifier()\n",
    "knn_clf.fit(X_train,y_multilabel)"
   ]
  },
  {
   "cell_type": "code",
   "execution_count": 65,
   "metadata": {},
   "outputs": [],
   "source": [
    "#y_predict=cross_val_predict(knn_clf,X_train,y_multilabel,cv=2)\n",
    "#y_predict"
   ]
  },
  {
   "cell_type": "markdown",
   "metadata": {},
   "source": [
    "#Muliclass/Multioutput classification"
   ]
  },
  {
   "cell_type": "code",
   "execution_count": 66,
   "metadata": {},
   "outputs": [
    {
     "data": {
      "image/png": "[encoded data removed]",
      "text/plain": [
       "<Figure size 864x576 with 2 Axes>"
      ]
     },
     "metadata": {
      "needs_background": "light"
     },
     "output_type": "display_data"
    }
   ],
   "source": [
    "noise=np.random.randint(0,100,(len(X_train),784))\n",
    "X_train_noise=X_train+noise\n",
    "noise=np.random.randint(0,100,(len(X_test),784))\n",
    "X_test_noise=X_test+noise\n",
    "y_train_n=X_train\n",
    "y_test_n=X_test\n",
    "\n",
    "fig,ax=plt.subplots(1,2,figsize=(12,8))\n",
    "ax[0].imshow(X_train_noise[0].reshape(28,28),cmap=mpl.cm.binary,interpolation='nearest')\n",
    "ax[1].imshow(X_test_noise[0].reshape(28,28),cmap=mpl.cm.binary,interpolation='nearest')\n",
    "plt.show()"
   ]
  },
  {
   "cell_type": "code",
   "execution_count": 67,
   "metadata": {},
   "outputs": [
    {
     "data": {
      "image/png": "[encoded data removed]",
      "text/plain": [
       "<Figure size 432x288 with 1 Axes>"
      ]
     },
     "metadata": {
      "needs_background": "light"
     },
     "output_type": "display_data"
    }
   ],
   "source": [
    "knn_clf.fit(X_train_noise,y_train_n)\n",
    "clean_digit=knn_clf.predict([X_test[0]])\n",
    "plt.imshow(clean_digit.reshape(28,28),cmap=mpl.cm.binary,interpolation='nearest')\n",
    "plt.show()"
   ]
  },
  {
   "cell_type": "markdown",
   "metadata": {},
   "source": [
    "#Achieving Accuracy of 97% on MNIST dataset using KNN"
   ]
  },
  {
   "cell_type": "markdown",
   "metadata": {},
   "source": [
    "from sklearn.model_selection import GridSearchCV\n",
    "param_grid=[{'weights':['uniform','distance'],\n",
    "             'n_neighbors':[3,4,5]}]\n",
    "knn1_clf=KNeighborsClassifier()\n",
    "grid_search=GridSearchCV(knn1_clf,param_grid,cv=3,verbose=3)\n",
    "grid_search.fit(X_train,y_train)"
   ]
  },
  {
   "cell_type": "code",
   "execution_count": 108,
   "metadata": {},
   "outputs": [],
   "source": [
    "from scipy.ndimage.interpolation import shift\n",
    "def shift_image(image_array,shift_index):\n",
    "    image=image_array.reshape(28,28)\n",
    "    return shift(image,shift_index,cval=0,mode='constant').reshape([-1])"
   ]
  },
  {
   "cell_type": "code",
   "execution_count": 83,
   "metadata": {},
   "outputs": [
    {
     "data": {
      "image/png": "[encoded data removed]",
      "text/plain": [
       "<Figure size 432x288 with 2 Axes>"
      ]
     },
     "metadata": {
      "needs_background": "light"
     },
     "output_type": "display_data"
    }
   ],
   "source": [
    "shifted_image=shift_image(X_train[0],[0,10])\n",
    "fig,ax=plt.subplots(1,2)\n",
    "ax[0].imshow(X_train[0].reshape(28,28),cmap=mpl.cm.binary,interpolation='nearest')\n",
    "ax[1].imshow(shifted_image.reshape(28,28),cmap=mpl.cm.binary,interpolation='nearest')\n",
    "plt.show()"
   ]
  },
  {
   "cell_type": "code",
   "execution_count": 104,
   "metadata": {},
   "outputs": [],
   "source": [
    "X_train_augmented=[image for image in X_train]\n",
    "y_train_augmented=[label for label in y_train]\n",
    "\n",
    "for shift_coordinates in ([0,1],[0,-1],[1,0],[-1,0]):\n",
    "    for image,label in zip(X_train,y_train):\n",
    "        X_train_augmented.append(shift_image(image,shift_coordinates))\n",
    "        y_train_augmented.append(label)\n",
    "        \n"
   ]
  },
  {
   "cell_type": "code",
   "execution_count": 106,
   "metadata": {},
   "outputs": [
    {
     "data": {
      "text/plain": [
       "array([  0.,   0.,   0.,   0.,   0.,   0.,   0.,   0.,   0.,   0.,   0.,\n",
       "         0.,   0.,   0.,   0.,   0.,   0.,   0.,   0.,   0.,   0.,   0.,\n",
       "         0.,   0.,   0.,   0.,   0.,   0.,   0.,   0.,   0.,   0.,   0.,\n",
       "         0.,   0.,   0.,   0.,   0.,   0.,   0.,   0.,   0.,   0.,   0.,\n",
       "         0.,   0.,   0.,   0.,   0.,   0.,   0.,   0.,   0.,   0.,   0.,\n",
       "         0.,   0.,   0.,   0.,   0.,   0.,   0.,   0.,   0.,   0.,   0.,\n",
       "         0.,   0.,   0.,   0.,   0.,   0.,   0.,   0.,   0.,   0.,   0.,\n",
       "         0.,   0.,   0.,   0.,   0.,   0.,   0.,   0.,   0.,   0.,   0.,\n",
       "         0.,   0.,   0.,   0.,   0.,   0.,   0.,   0.,   0.,   0.,   0.,\n",
       "         0.,   0.,   0.,   0.,   0.,   0.,   0.,   0.,   0.,   0.,   0.,\n",
       "         0.,   0.,   0.,   0.,   0.,   0.,   0.,   0.,   0.,   0.,   0.,\n",
       "         0.,   0.,   0.,   0.,   0.,   0.,   0.,   0.,   0.,   0.,   0.,\n",
       "         0.,   0.,   0.,   0.,   0.,   0.,   0.,   0.,   0.,   0.,   0.,\n",
       "         0.,   0.,   0.,   0.,   0.,   0.,   0.,   0.,   0.,   0.,   0.,\n",
       "         0.,   0.,   0.,   0.,   0.,   0.,   0.,   0.,   0.,   0.,   0.,\n",
       "         0.,   0.,   0.,   0.,   0.,   0.,   0.,   0.,   0.,   0.,   0.,\n",
       "         0.,   0.,   0.,   0.,   0.,   0.,   0.,   0.,   0.,   0.,   0.,\n",
       "         0.,   0.,   0.,   0.,   0.,   0.,   0.,   0.,   0.,   0.,   0.,\n",
       "         0.,   0.,   0.,   0.,   0.,   0.,   0.,   0.,   0.,  97.,  96.,\n",
       "        77., 118.,  61.,   0.,   0.,   0.,   0.,   0.,   0.,   0.,   0.,\n",
       "         0.,   0.,   0.,   0.,   0.,   0.,   0.,  90., 138., 235., 235.,\n",
       "       235., 235., 235., 235., 251., 251., 248., 254., 245., 235., 190.,\n",
       "        21.,   0.,   0.,   0.,   0.,   0.,   0.,   0.,   0.,   0.,   0.,\n",
       "         0., 140., 251., 254., 254., 254., 254., 254., 254., 254., 254.,\n",
       "       254., 254., 254., 254., 254., 254., 189.,  23.,   0.,   0.,   0.,\n",
       "         0.,   0.,   0.,   0.,   0.,   0.,   0., 226., 254., 208., 199.,\n",
       "       199., 199., 199., 139.,  61.,  61.,  61.,  61.,  61., 128., 222.,\n",
       "       254., 254., 189.,  21.,   0.,   0.,   0.,   0.,   0.,   0.,   0.,\n",
       "         0.,   0.,  38.,  82.,  13.,   0.,   0.,   0.,   0.,   0.,   0.,\n",
       "         0.,   0.,   0.,   0.,   0.,  34., 213., 254., 254., 115.,   0.,\n",
       "         0.,   0.,   0.,   0.,   0.,   0.,   0.,   0.,   0.,   0.,   0.,\n",
       "         0.,   0.,   0.,   0.,   0.,   0.,   0.,   0.,   0.,   0.,   0.,\n",
       "         0.,  84., 254., 254., 234.,   0.,   0.,   0.,   0.,   0.,   0.,\n",
       "         0.,   0.,   0.,   0.,   0.,   0.,   0.,   0.,   0.,   0.,   0.,\n",
       "         0.,   0.,   0.,   0.,   0.,   0.,   0.,  84., 254., 254., 234.,\n",
       "         0.,   0.,   0.,   0.,   0.,   0.,   0.,   0.,   0.,   0.,   0.,\n",
       "         0.,   0.,   0.,   0.,   0.,   0.,   0.,   0.,   0.,   0.,   0.,\n",
       "         0., 106., 157., 254., 254., 243.,  51.,   0.,   0.,   0.,   0.,\n",
       "         0.,   0.,   0.,   0.,   0.,   0.,   0.,   0.,   0.,   0.,   0.,\n",
       "         0.,   0.,  25., 117., 228., 228., 228., 253., 254., 254., 254.,\n",
       "       254., 240.,   0.,   0.,   0.,   0.,   0.,   0.,   0.,   0.,   0.,\n",
       "         0.,   0.,   0.,   0.,   0.,   0.,  68., 119., 220., 254., 254.,\n",
       "       254., 254., 254., 254., 254., 254., 254., 142.,   0.,   0.,   0.,\n",
       "         0.,   0.,   0.,   0.,   0.,   0.,   0.,   0.,   0.,   0.,  37.,\n",
       "       187., 253., 254., 254., 254., 223., 206., 206.,  75.,  68., 215.,\n",
       "       254., 254., 117.,   0.,   0.,   0.,   0.,   0.,   0.,   0.,   0.,\n",
       "         0.,   0.,   0.,   0., 113., 219., 254., 242., 227., 115.,  89.,\n",
       "        31.,   0.,   0.,   0.,   0., 200., 254., 241.,  41.,   0.,   0.,\n",
       "         0.,   0.,   0.,   0.,   0.,   0.,   0.,   0.,   0.,   0., 169.,\n",
       "       254., 176.,  62.,   0.,   0.,   0.,   0.,   0.,   0.,   0.,  48.,\n",
       "       231., 254., 234.,   0.,   0.,   0.,   0.,   0.,   0.,   0.,   0.,\n",
       "         0.,   0.,   0.,   0.,   0.,  18., 124.,   0.,   0.,   0.,   0.,\n",
       "         0.,   0.,   0.,   0.,   0.,  84., 254., 254., 166.,   0.,   0.,\n",
       "         0.,   0.,   0.,   0.,   0.,   0.,   0.,   0.,   0.,   0.,   0.,\n",
       "         0.,   0.,   0.,   0.,   0.,   0.,   0.,   0.,   0.,   0.,   0.,\n",
       "       139., 254., 238.,  57.,   0.,   0.,   0.,   0.,   0.,   0.,   0.,\n",
       "         0.,   0.,   0.,   0.,   0.,   0.,   0.,   0.,   0.,   0.,   0.,\n",
       "         0.,   0.,   0.,   0.,   0., 210., 250., 254., 168.,   0.,   0.,\n",
       "         0.,   0.,   0.,   0.,   0.,   0.,   0.,   0.,   0.,   0.,   0.,\n",
       "         0.,   0.,   0.,   0.,   0.,   0.,   0.,   0.,   0.,   0.,   0.,\n",
       "       242., 254., 239.,  57.,   0.,   0.,   0.,   0.,   0.,   0.,   0.,\n",
       "         0.,   0.,   0.,   0.,   0.,   0.,   0.,   0.,   0.,   0.,   0.,\n",
       "         0.,   0.,   0.,   0.,   0.,  89., 251., 241.,  86.,   0.,   0.,\n",
       "         0.,   0.,   0.,   0.,   0.,   0.,   0.,   0.,   0.,   0.,   0.,\n",
       "         0.,   0.,   0.,   0.,   0.,   0.,   0.,   0.,   0.,   0.,   5.,\n",
       "       206., 246., 157.,   0.,   0.,   0.,   0.,   0.,   0.,   0.,   0.,\n",
       "         0.,   0.,   0.,   0.,   0.,   0.,   0.,   0.,   0.,   0.,   0.,\n",
       "         0.,   0.,   0.,   0.,   0.,   4., 117.,  69.,   0.,   0.,   0.,\n",
       "         0.,   0.,   0.,   0.,   0.,   0.,   0.,   0.,   0.,   0.,   0.,\n",
       "         0.,   0.,   0.,   0.,   0.,   0.,   0.,   0.,   0.,   0.,   0.,\n",
       "         0.,   0.,   0.,   0.,   0.,   0.,   0.,   0.,   0.,   0.,   0.,\n",
       "         0.,   0.,   0.])"
      ]
     },
     "execution_count": 106,
     "metadata": {},
     "output_type": "execute_result"
    }
   ],
   "source": [
    "type(X_train_augmented)"
   ]
  },
  {
   "cell_type": "code",
   "execution_count": 98,
   "metadata": {},
   "outputs": [
    {
     "data": {
      "text/plain": [
       "array([array([  0.,   0.,   0.,   0.,   0.,   0.,   0.,   0.,   0.,   0.,   0.,\n",
       "         0.,   0.,   0.,   0.,   0.,   0.,   0.,   0.,   0.,   0.,   0.,\n",
       "         0.,   0.,   0.,   0.,   0.,   0.,   0.,   0.,   0.,   0.,   0.,\n",
       "         0.,   0.,   0.,   0.,   0.,   0.,   0.,   0.,   0.,   0.,   0.,\n",
       "         0.,   0.,   0.,   0.,   0.,   0.,   0.,   0.,   0.,   0.,   0.,\n",
       "         0.,   0.,   0.,   0.,   0.,   0.,   0.,   0.,   0.,   0.,   0.,\n",
       "         0.,   0.,   0.,   0.,   0.,   0.,   0.,   0.,   0.,   0.,   0.,\n",
       "         0.,   0.,   0.,   0.,   0.,   0.,   0.,   0.,   0.,   0.,   0.,\n",
       "         0.,   0.,   0.,   0.,   0.,   0.,   0.,   0.,   0.,   0.,   0.,\n",
       "         0.,   0.,   0.,   0.,   0.,   0.,   0.,   0.,   0.,   0.,   0.,\n",
       "         0.,   0.,   0.,   0.,   0.,   0.,   0.,   0.,   0.,   0.,   0.,\n",
       "         0.,   0.,   0.,   0.,   0.,   0.,   0.,   0.,   0.,   0.,   0.,\n",
       "         0.,   0.,   0.,   0.,   0.,   0.,   0.,   0.,   0.,   0.,   0.,\n",
       "         0.,   0.,   0.,   0.,   0.,   0.,   0.,   0.,   0.,   3.,  18.,\n",
       "        18.,  18., 126., 136., 175.,  26., 166., 255., 247., 127.,   0.,\n",
       "         0.,   0.,   0.,   0.,   0.,   0.,   0.,   0.,   0.,   0.,   0.,\n",
       "        30.,  36.,  94., 154., 170., 253., 253., 253., 253., 253., 225.,\n",
       "       172., 253., 242., 195.,  64.,   0.,   0.,   0.,   0.,   0.,   0.,\n",
       "         0.,   0.,   0.,   0.,   0.,  49., 238., 253., 253., 253., 253.,\n",
       "       253., 253., 253., 253., 251.,  93.,  82.,  82.,  56.,  39.,   0.,\n",
       "         0.,   0.,   0.,   0.,   0.,   0.,   0.,   0.,   0.,   0.,   0.,\n",
       "        18., 219., 253., 253., 253., 253., 253., 198., 182., 247., 241.,\n",
       "         0.,   0.,   0.,   0.,   0.,   0.,   0.,   0.,   0.,   0.,   0.,\n",
       "         0.,   0.,   0.,   0.,   0.,   0.,   0.,  80., 156., 107., 253.,\n",
       "       253., 205.,  11.,   0.,  43., 154.,   0.,   0.,   0.,   0.,   0.,\n",
       "         0.,   0.,   0.,   0.,   0.,   0.,   0.,   0.,   0.,   0.,   0.,\n",
       "         0.,   0.,   0.,  14.,   1., 154., 253.,  90.,   0.,   0.,   0.,\n",
       "         0.,   0.,   0.,   0.,   0.,   0.,   0.,   0.,   0.,   0.,   0.,\n",
       "         0.,   0.,   0.,   0.,   0.,   0.,   0.,   0.,   0.,   0.,   0.,\n",
       "       139., 253., 190.,   2.,   0.,   0.,   0.,   0.,   0.,   0.,   0.,\n",
       "         0.,   0.,   0.,   0.,   0.,   0.,   0.,   0.,   0.,   0.,   0.,\n",
       "         0.,   0.,   0.,   0.,   0.,   0.,  11., 190., 253.,  70.,   0.,\n",
       "         0.,   0.,   0.,   0.,   0.,   0.,   0.,   0.,   0.,   0.,   0.,\n",
       "         0.,   0.,   0.,   0.,   0.,   0.,   0.,   0.,   0.,   0.,   0.,\n",
       "         0.,   0.,  35., 241., 225., 160., 108.,   1.,   0.,   0.,   0.,\n",
       "         0.,   0.,   0.,   0.,   0.,   0.,   0.,   0.,   0.,   0.,   0.,\n",
       "         0.,   0.,   0.,   0.,   0.,   0.,   0.,   0.,   0.,  81., 240.,\n",
       "       253., 253., 119.,  25.,   0.,   0.,   0.,   0.,   0.,   0.,   0.,\n",
       "         0.,   0.,   0.,   0.,   0.,   0.,   0.,   0.,   0.,   0.,   0.,\n",
       "         0.,   0.,   0.,   0.,   0.,  45., 186., 253., 253., 150.,  27.,\n",
       "         0.,   0.,   0.,   0.,   0.,   0.,   0.,   0.,   0.,   0.,   0.,\n",
       "         0.,   0.,   0.,   0.,   0.,   0.,   0.,   0.,   0.,   0.,   0.,\n",
       "         0.,  16.,  93., 252., 253., 187.,   0.,   0.,   0.,   0.,   0.,\n",
       "         0.,   0.,   0.,   0.,   0.,   0.,   0.,   0.,   0.,   0.,   0.,\n",
       "         0.,   0.,   0.,   0.,   0.,   0.,   0.,   0.,   0., 249., 253.,\n",
       "       249.,  64.,   0.,   0.,   0.,   0.,   0.,   0.,   0.,   0.,   0.,\n",
       "         0.,   0.,   0.,   0.,   0.,   0.,   0.,   0.,   0.,   0.,   0.,\n",
       "         0.,  46., 130., 183., 253., 253., 207.,   2.,   0.,   0.,   0.,\n",
       "         0.,   0.,   0.,   0.,   0.,   0.,   0.,   0.,   0.,   0.,   0.,\n",
       "         0.,   0.,   0.,   0.,   0.,  39., 148., 229., 253., 253., 253.,\n",
       "       250., 182.,   0.,   0.,   0.,   0.,   0.,   0.,   0.,   0.,   0.,\n",
       "         0.,   0.,   0.,   0.,   0.,   0.,   0.,   0.,   0.,  24., 114.,\n",
       "       221., 253., 253., 253., 253., 201.,  78.,   0.,   0.,   0.,   0.,\n",
       "         0.,   0.,   0.,   0.,   0.,   0.,   0.,   0.,   0.,   0.,   0.,\n",
       "         0.,   0.,  23.,  66., 213., 253., 253., 253., 253., 198.,  81.,\n",
       "         2.,   0.,   0.,   0.,   0.,   0.,   0.,   0.,   0.,   0.,   0.,\n",
       "         0.,   0.,   0.,   0.,   0.,   0.,  18., 171., 219., 253., 253.,\n",
       "       253., 253., 195.,  80.,   9.,   0.,   0.,   0.,   0.,   0.,   0.,\n",
       "         0.,   0.,   0.,   0.,   0.,   0.,   0.,   0.,   0.,   0.,  55.,\n",
       "       172., 226., 253., 253., 253., 253., 244., 133.,  11.,   0.,   0.,\n",
       "         0.,   0.,   0.,   0.,   0.,   0.,   0.,   0.,   0.,   0.,   0.,\n",
       "         0.,   0.,   0.,   0.,   0., 136., 253., 253., 253., 212., 135.,\n",
       "       132.,  16.,   0.,   0.,   0.,   0.,   0.,   0.,   0.,   0.,   0.,\n",
       "         0.,   0.,   0.,   0.,   0.,   0.,   0.,   0.,   0.,   0.,   0.,\n",
       "         0.,   0.,   0.,   0.,   0.,   0.,   0.,   0.,   0.,   0.,   0.,\n",
       "         0.,   0.,   0.,   0.,   0.,   0.,   0.,   0.,   0.,   0.,   0.,\n",
       "         0.,   0.,   0.,   0.,   0.,   0.,   0.,   0.,   0.,   0.,   0.,\n",
       "         0.,   0.,   0.,   0.,   0.,   0.,   0.,   0.,   0.,   0.,   0.,\n",
       "         0.,   0.,   0.,   0.,   0.,   0.,   0.,   0.,   0.,   0.,   0.,\n",
       "         0.,   0.,   0.,   0.,   0.,   0.,   0.,   0.,   0.,   0.,   0.,\n",
       "         0.,   0.,   0.,   0.,   0.,   0.,   0.,   0.,   0.,   0.,   0.,\n",
       "         0.,   0.,   0.]),\n",
       "       array([  0.,   0.,   0.,   0.,   0.,   0.,   0.,   0.,   0.,   0.,   0.,\n",
       "         0.,   0.,   0.,   0.,   0.,   0.,   0.,   0.,   0.,   0.,   0.,\n",
       "         0.,   0.,   0.,   0.,   0.,   0.,   0.,   0.,   0.,   0.,   0.,\n",
       "         0.,   0.,   0.,   0.,   0.,   0.,   0.,   0.,   0.,   0.,   0.,\n",
       "         0.,   0.,   0.,   0.,   0.,   0.,   0.,   0.,   0.,   0.,   0.,\n",
       "         0.,   0.,   0.,   0.,   0.,   0.,   0.,   0.,   0.,   0.,   0.,\n",
       "         0.,   0.,   0.,   0.,   0.,   0.,   0.,   0.,   0.,   0.,   0.,\n",
       "         0.,   0.,   0.,   0.,   0.,   0.,   0.,   0.,   0.,   0.,   0.,\n",
       "         0.,   0.,   0.,   0.,   0.,   0.,   0.,   0.,   0.,   0.,   0.,\n",
       "         0.,   0.,   0.,   0.,   0.,   0.,   0.,   0.,   0.,   0.,   0.,\n",
       "         0.,   0.,   0.,   0.,   0.,   0.,   0.,   0.,   0.,   0.,   0.,\n",
       "         0.,   0.,   0.,   0.,   0.,   0.,  51., 159., 253., 159.,  50.,\n",
       "         0.,   0.,   0.,   0.,   0.,   0.,   0.,   0.,   0.,   0.,   0.,\n",
       "         0.,   0.,   0.,   0.,   0.,   0.,   0.,   0.,   0.,   0.,   0.,\n",
       "        48., 238., 252., 252., 252., 237.,   0.,   0.,   0.,   0.,   0.,\n",
       "         0.,   0.,   0.,   0.,   0.,   0.,   0.,   0.,   0.,   0.,   0.,\n",
       "         0.,   0.,   0.,   0.,   0.,  54., 227., 253., 252., 239., 233.,\n",
       "       252.,  57.,   6.,   0.,   0.,   0.,   0.,   0.,   0.,   0.,   0.,\n",
       "         0.,   0.,   0.,   0.,   0.,   0.,   0.,   0.,   0.,  10.,  60.,\n",
       "       224., 252., 253., 252., 202.,  84., 252., 253., 122.,   0.,   0.,\n",
       "         0.,   0.,   0.,   0.,   0.,   0.,   0.,   0.,   0.,   0.,   0.,\n",
       "         0.,   0.,   0.,   0., 163., 252., 252., 252., 253., 252., 252.,\n",
       "        96., 189., 253., 167.,   0.,   0.,   0.,   0.,   0.,   0.,   0.,\n",
       "         0.,   0.,   0.,   0.,   0.,   0.,   0.,   0.,   0.,  51., 238.,\n",
       "       253., 253., 190., 114., 253., 228.,  47.,  79., 255., 168.,   0.,\n",
       "         0.,   0.,   0.,   0.,   0.,   0.,   0.,   0.,   0.,   0.,   0.,\n",
       "         0.,   0.,   0.,  48., 238., 252., 252., 179.,  12.,  75., 121.,\n",
       "        21.,   0.,   0., 253., 243.,  50.,   0.,   0.,   0.,   0.,   0.,\n",
       "         0.,   0.,   0.,   0.,   0.,   0.,   0.,   0.,  38., 165., 253.,\n",
       "       233., 208.,  84.,   0.,   0.,   0.,   0.,   0.,   0., 253., 252.,\n",
       "       165.,   0.,   0.,   0.,   0.,   0.,   0.,   0.,   0.,   0.,   0.,\n",
       "         0.,   0.,   7., 178., 252., 240.,  71.,  19.,  28.,   0.,   0.,\n",
       "         0.,   0.,   0.,   0., 253., 252., 195.,   0.,   0.,   0.,   0.,\n",
       "         0.,   0.,   0.,   0.,   0.,   0.,   0.,   0.,  57., 252., 252.,\n",
       "        63.,   0.,   0.,   0.,   0.,   0.,   0.,   0.,   0.,   0., 253.,\n",
       "       252., 195.,   0.,   0.,   0.,   0.,   0.,   0.,   0.,   0.,   0.,\n",
       "         0.,   0.,   0., 198., 253., 190.,   0.,   0.,   0.,   0.,   0.,\n",
       "         0.,   0.,   0.,   0.,   0., 255., 253., 196.,   0.,   0.,   0.,\n",
       "         0.,   0.,   0.,   0.,   0.,   0.,   0.,   0.,  76., 246., 252.,\n",
       "       112.,   0.,   0.,   0.,   0.,   0.,   0.,   0.,   0.,   0.,   0.,\n",
       "       253., 252., 148.,   0.,   0.,   0.,   0.,   0.,   0.,   0.,   0.,\n",
       "         0.,   0.,   0.,  85., 252., 230.,  25.,   0.,   0.,   0.,   0.,\n",
       "         0.,   0.,   0.,   0.,   7., 135., 253., 186.,  12.,   0.,   0.,\n",
       "         0.,   0.,   0.,   0.,   0.,   0.,   0.,   0.,   0.,  85., 252.,\n",
       "       223.,   0.,   0.,   0.,   0.,   0.,   0.,   0.,   0.,   7., 131.,\n",
       "       252., 225.,  71.,   0.,   0.,   0.,   0.,   0.,   0.,   0.,   0.,\n",
       "         0.,   0.,   0.,   0.,  85., 252., 145.,   0.,   0.,   0.,   0.,\n",
       "         0.,   0.,   0.,  48., 165., 252., 173.,   0.,   0.,   0.,   0.,\n",
       "         0.,   0.,   0.,   0.,   0.,   0.,   0.,   0.,   0.,   0.,  86.,\n",
       "       253., 225.,   0.,   0.,   0.,   0.,   0.,   0., 114., 238., 253.,\n",
       "       162.,   0.,   0.,   0.,   0.,   0.,   0.,   0.,   0.,   0.,   0.,\n",
       "         0.,   0.,   0.,   0.,   0.,  85., 252., 249., 146.,  48.,  29.,\n",
       "        85., 178., 225., 253., 223., 167.,  56.,   0.,   0.,   0.,   0.,\n",
       "         0.,   0.,   0.,   0.,   0.,   0.,   0.,   0.,   0.,   0.,   0.,\n",
       "        85., 252., 252., 252., 229., 215., 252., 252., 252., 196., 130.,\n",
       "         0.,   0.,   0.,   0.,   0.,   0.,   0.,   0.,   0.,   0.,   0.,\n",
       "         0.,   0.,   0.,   0.,   0.,   0.,  28., 199., 252., 252., 253.,\n",
       "       252., 252., 233., 145.,   0.,   0.,   0.,   0.,   0.,   0.,   0.,\n",
       "         0.,   0.,   0.,   0.,   0.,   0.,   0.,   0.,   0.,   0.,   0.,\n",
       "         0.,   0.,  25., 128., 252., 253., 252., 141.,  37.,   0.,   0.,\n",
       "         0.,   0.,   0.,   0.,   0.,   0.,   0.,   0.,   0.,   0.,   0.,\n",
       "         0.,   0.,   0.,   0.,   0.,   0.,   0.,   0.,   0.,   0.,   0.,\n",
       "         0.,   0.,   0.,   0.,   0.,   0.,   0.,   0.,   0.,   0.,   0.,\n",
       "         0.,   0.,   0.,   0.,   0.,   0.,   0.,   0.,   0.,   0.,   0.,\n",
       "         0.,   0.,   0.,   0.,   0.,   0.,   0.,   0.,   0.,   0.,   0.,\n",
       "         0.,   0.,   0.,   0.,   0.,   0.,   0.,   0.,   0.,   0.,   0.,\n",
       "         0.,   0.,   0.,   0.,   0.,   0.,   0.,   0.,   0.,   0.,   0.,\n",
       "         0.,   0.,   0.,   0.,   0.,   0.,   0.,   0.,   0.,   0.,   0.,\n",
       "         0.,   0.,   0.,   0.,   0.,   0.,   0.,   0.,   0.,   0.,   0.,\n",
       "         0.,   0.,   0.,   0.,   0.,   0.,   0.,   0.,   0.,   0.,   0.,\n",
       "         0.,   0.,   0.,   0.,   0.,   0.,   0.,   0.,   0.,   0.,   0.,\n",
       "         0.,   0.,   0.]),\n",
       "       array([  0.,   0.,   0.,   0.,   0.,   0.,   0.,   0.,   0.,   0.,   0.,\n",
       "         0.,   0.,   0.,   0.,   0.,   0.,   0.,   0.,   0.,   0.,   0.,\n",
       "         0.,   0.,   0.,   0.,   0.,   0.,   0.,   0.,   0.,   0.,   0.,\n",
       "         0.,   0.,   0.,   0.,   0.,   0.,   0.,   0.,   0.,   0.,   0.,\n",
       "         0.,   0.,   0.,   0.,   0.,   0.,   0.,   0.,   0.,   0.,   0.,\n",
       "         0.,   0.,   0.,   0.,   0.,   0.,   0.,   0.,   0.,   0.,   0.,\n",
       "         0.,   0.,   0.,   0.,   0.,   0.,   0.,   0.,   0.,   0.,   0.,\n",
       "         0.,   0.,   0.,   0.,   0.,   0.,   0.,   0.,   0.,   0.,   0.,\n",
       "         0.,   0.,   0.,   0.,   0.,   0.,   0.,   0.,   0.,   0.,   0.,\n",
       "         0.,   0.,   0.,   0.,   0.,   0.,   0.,   0.,   0.,   0.,   0.,\n",
       "         0.,   0.,   0.,   0.,   0.,   0.,   0.,   0.,   0.,   0.,   0.,\n",
       "         0.,   0.,   0.,   0.,   0.,   0.,   0.,   0.,   0.,   0.,   0.,\n",
       "         0.,   0.,   0.,   0.,   0.,   0.,   0.,   0.,   0.,   0.,   0.,\n",
       "         0.,   0.,   0.,   0.,   0.,   0.,   0.,   0.,   0.,   0.,   0.,\n",
       "         0.,   0.,   0.,   0.,   0.,   0.,  67., 232.,  39.,   0.,   0.,\n",
       "         0.,   0.,   0.,   0.,   0.,   0.,   0.,  62.,  81.,   0.,   0.,\n",
       "         0.,   0.,   0.,   0.,   0.,   0.,   0.,   0.,   0.,   0.,   0.,\n",
       "         0., 120., 180.,  39.,   0.,   0.,   0.,   0.,   0.,   0.,   0.,\n",
       "         0.,   0., 126., 163.,   0.,   0.,   0.,   0.,   0.,   0.,   0.,\n",
       "         0.,   0.,   0.,   0.,   0.,   0.,   2., 153., 210.,  40.,   0.,\n",
       "         0.,   0.,   0.,   0.,   0.,   0.,   0.,   0., 220., 163.,   0.,\n",
       "         0.,   0.,   0.,   0.,   0.,   0.,   0.,   0.,   0.,   0.,   0.,\n",
       "         0.,  27., 254., 162.,   0.,   0.,   0.,   0.,   0.,   0.,   0.,\n",
       "         0.,   0.,   0., 222., 163.,   0.,   0.,   0.,   0.,   0.,   0.,\n",
       "         0.,   0.,   0.,   0.,   0.,   0.,   0., 183., 254., 125.,   0.,\n",
       "         0.,   0.,   0.,   0.,   0.,   0.,   0.,   0.,  46., 245., 163.,\n",
       "         0.,   0.,   0.,   0.,   0.,   0.,   0.,   0.,   0.,   0.,   0.,\n",
       "         0.,   0., 198., 254.,  56.,   0.,   0.,   0.,   0.,   0.,   0.,\n",
       "         0.,   0.,   0., 120., 254., 163.,   0.,   0.,   0.,   0.,   0.,\n",
       "         0.,   0.,   0.,   0.,   0.,   0.,   0.,  23., 231., 254.,  29.,\n",
       "         0.,   0.,   0.,   0.,   0.,   0.,   0.,   0.,   0., 159., 254.,\n",
       "       120.,   0.,   0.,   0.,   0.,   0.,   0.,   0.,   0.,   0.,   0.,\n",
       "         0.,   0., 163., 254., 216.,  16.,   0.,   0.,   0.,   0.,   0.,\n",
       "         0.,   0.,   0.,   0., 159., 254.,  67.,   0.,   0.,   0.,   0.,\n",
       "         0.,   0.,   0.,   0.,   0.,  14.,  86., 178., 248., 254.,  91.,\n",
       "         0.,   0.,   0.,   0.,   0.,   0.,   0.,   0.,   0.,   0., 159.,\n",
       "       254.,  85.,   0.,   0.,   0.,  47.,  49., 116., 144., 150., 241.,\n",
       "       243., 234., 179., 241., 252.,  40.,   0.,   0.,   0.,   0.,   0.,\n",
       "         0.,   0.,   0.,   0.,   0., 150., 253., 237., 207., 207., 207.,\n",
       "       253., 254., 250., 240., 198., 143.,  91.,  28.,   5., 233., 250.,\n",
       "         0.,   0.,   0.,   0.,   0.,   0.,   0.,   0.,   0.,   0.,   0.,\n",
       "         0., 119., 177., 177., 177., 177., 177.,  98.,  56.,   0.,   0.,\n",
       "         0.,   0.,   0., 102., 254., 220.,   0.,   0.,   0.,   0.,   0.,\n",
       "         0.,   0.,   0.,   0.,   0.,   0.,   0.,   0.,   0.,   0.,   0.,\n",
       "         0.,   0.,   0.,   0.,   0.,   0.,   0.,   0.,   0., 169., 254.,\n",
       "       137.,   0.,   0.,   0.,   0.,   0.,   0.,   0.,   0.,   0.,   0.,\n",
       "         0.,   0.,   0.,   0.,   0.,   0.,   0.,   0.,   0.,   0.,   0.,\n",
       "         0.,   0.,   0.,   0., 169., 254.,  57.,   0.,   0.,   0.,   0.,\n",
       "         0.,   0.,   0.,   0.,   0.,   0.,   0.,   0.,   0.,   0.,   0.,\n",
       "         0.,   0.,   0.,   0.,   0.,   0.,   0.,   0.,   0.,   0., 169.,\n",
       "       254.,  57.,   0.,   0.,   0.,   0.,   0.,   0.,   0.,   0.,   0.,\n",
       "         0.,   0.,   0.,   0.,   0.,   0.,   0.,   0.,   0.,   0.,   0.,\n",
       "         0.,   0.,   0.,   0.,   0., 169., 255.,  94.,   0.,   0.,   0.,\n",
       "         0.,   0.,   0.,   0.,   0.,   0.,   0.,   0.,   0.,   0.,   0.,\n",
       "         0.,   0.,   0.,   0.,   0.,   0.,   0.,   0.,   0.,   0.,   0.,\n",
       "       169., 254.,  96.,   0.,   0.,   0.,   0.,   0.,   0.,   0.,   0.,\n",
       "         0.,   0.,   0.,   0.,   0.,   0.,   0.,   0.,   0.,   0.,   0.,\n",
       "         0.,   0.,   0.,   0.,   0.,   0., 169., 254., 153.,   0.,   0.,\n",
       "         0.,   0.,   0.,   0.,   0.,   0.,   0.,   0.,   0.,   0.,   0.,\n",
       "         0.,   0.,   0.,   0.,   0.,   0.,   0.,   0.,   0.,   0.,   0.,\n",
       "         0., 169., 255., 153.,   0.,   0.,   0.,   0.,   0.,   0.,   0.,\n",
       "         0.,   0.,   0.,   0.,   0.,   0.,   0.,   0.,   0.,   0.,   0.,\n",
       "         0.,   0.,   0.,   0.,   0.,   0.,   0.,  96., 254., 153.,   0.,\n",
       "         0.,   0.,   0.,   0.,   0.,   0.,   0.,   0.,   0.,   0.,   0.,\n",
       "         0.,   0.,   0.,   0.,   0.,   0.,   0.,   0.,   0.,   0.,   0.,\n",
       "         0.,   0.,   0.,   0.,   0.,   0.,   0.,   0.,   0.,   0.,   0.,\n",
       "         0.,   0.,   0.,   0.,   0.,   0.,   0.,   0.,   0.,   0.,   0.,\n",
       "         0.,   0.,   0.,   0.,   0.,   0.,   0.,   0.,   0.,   0.,   0.,\n",
       "         0.,   0.,   0.,   0.,   0.,   0.,   0.,   0.,   0.,   0.,   0.,\n",
       "         0.,   0.,   0.,   0.,   0.,   0.,   0.,   0.,   0.,   0.,   0.,\n",
       "         0.,   0.,   0.,   0.,   0.,   0.,   0.,   0.,   0.,   0.,   0.,\n",
       "         0.,   0.,   0.]),\n",
       "       ...,\n",
       "       array([[ 7.06104780e-24, -7.02318642e-25,  2.88354513e-23,\n",
       "         9.05013055e-23,  1.12128973e-22, -7.50887233e-22,\n",
       "         4.58463707e-21,  4.26994372e-20, -7.90819176e-19,\n",
       "        -1.99195452e-19, -3.41243509e-18, -9.22120450e-18,\n",
       "        -2.33191228e-17,  2.62307076e-17,  8.49916715e-17,\n",
       "        -8.77089369e-18, -1.10605655e-16, -2.20481894e-16,\n",
       "        -4.68611586e-16,  4.35741657e-16,  6.46991461e-16,\n",
       "         1.51645811e-15,  1.77532222e-15,  2.44259240e-15,\n",
       "         9.92487458e-16, -4.43568375e-21,  4.34568006e-18,\n",
       "         3.43839717e-18,  5.91512626e-24, -2.57518660e-23,\n",
       "        -8.78678049e-24,  9.34401715e-22,  1.03557744e-21,\n",
       "        -2.53519469e-21, -2.47729501e-20, -8.11548979e-20,\n",
       "         2.92660262e-18,  7.44495450e-19,  1.60709420e-17,\n",
       "         3.39138090e-17,  9.54574573e-17, -1.10809649e-16,\n",
       "        -3.12524505e-16,  2.07914471e-17,  4.80451143e-16,\n",
       "         9.69850332e-16,  2.01063366e-15, -1.41715938e-15,\n",
       "        -2.88168190e-15, -5.80041404e-15, -7.57842387e-15,\n",
       "        -6.72236686e-15, -3.74056231e-15,  2.13287924e-17,\n",
       "         1.28535665e-17,  1.15327777e-19,  2.36567167e-24,\n",
       "        -1.14665899e-22,  8.57210095e-23,  1.04233128e-21,\n",
       "        -2.56037283e-21, -2.46837178e-20,  1.35164745e-19,\n",
       "        -4.33404973e-20, -1.20811087e-17, -5.38087156e-18,\n",
       "        -5.23061359e-17, -1.59393777e-16, -3.23816237e-16,\n",
       "         4.13538440e-16,  9.46314352e-16, -1.09089364e-16,\n",
       "        -1.93956845e-15, -3.58953049e-15, -6.40818887e-15,\n",
       "         6.05168535e-15,  8.74255682e-15,  2.17962203e-14,\n",
       "         2.83718398e-14,  3.26347698e-14,  1.30711750e-14,\n",
       "         2.46021450e-16,  7.55746099e-18,  1.30446215e-18,\n",
       "        -1.53778129e-23,  8.73687676e-23,  2.73639718e-21,\n",
       "        -2.56262800e-21, -7.88855126e-20, -8.16890508e-20,\n",
       "         1.61740329e-19, -1.80546724e-18,  3.00021611e-17,\n",
       "         6.90120298e-18,  2.20800757e-16,  5.13455680e-16,\n",
       "         9.88171227e-16, -1.43232181e-15, -4.14103512e-15,\n",
       "         5.40466101e-16,  6.63250554e-15,  1.41654278e-14,\n",
       "         2.90067035e-14,  2.72398430e-14,  2.75859422e-14,\n",
       "         3.51334391e-14,  2.11560898e-14,  1.50166767e-14,\n",
       "         9.67318212e-15,  4.65630915e-16, -5.42683771e-16,\n",
       "        -1.57415172e-17,  9.57058078e-22, -2.34474008e-21,\n",
       "        -2.58952607e-21, -2.45666053e-20, -1.90514927e-19,\n",
       "        -7.04173403e-19, -2.52238713e-18, -2.25510306e-18,\n",
       "        -1.54842199e-16, -9.39271161e-17, -7.93807241e-16,\n",
       "        -1.67531402e-15, -4.37935401e-15,  6.92590216e-15,\n",
       "         1.43928762e-14,  2.55091220e-14,  2.58253427e-14,\n",
       "         4.19711267e-14,  2.45350467e-14,  9.60000000e+01,\n",
       "         1.21000000e+02,  2.13000000e+02,  2.55000000e+02,\n",
       "         2.55000000e+02,  1.21000000e+02, -1.81627700e-15,\n",
       "        -1.25242730e-15, -2.55539834e-15,  2.48235637e-21,\n",
       "        -8.73616198e-21,  2.75039551e-22,  3.47410581e-20,\n",
       "         1.31779698e-19, -2.40492246e-18, -7.42502950e-18,\n",
       "         7.26113858e-18,  4.62684917e-16,  1.66127517e-16,\n",
       "         3.17972491e-15,  8.67077617e-15,  2.44183733e-14,\n",
       "         3.50018700e-14,  3.28719308e-14,  5.20000000e+01,\n",
       "         1.08000000e+02,  1.57000000e+02,  2.41000000e+02,\n",
       "         2.51000000e+02,  2.53000000e+02,  2.53000000e+02,\n",
       "         2.42000000e+02,  1.46000000e+02,  6.90000000e+01,\n",
       "        -2.13827162e-16, -1.10109954e-16, -1.71189584e-15,\n",
       "        -3.06167534e-20, -1.98698263e-20,  8.45210513e-21,\n",
       "         2.30006895e-19, -1.03678207e-18, -6.05784123e-18,\n",
       "        -3.11126584e-17, -5.24037643e-17, -1.93863243e-15,\n",
       "        -3.54654351e-16,  1.90779371e-14,  3.42776344e-14,\n",
       "         1.00000000e+01,  9.40000000e+01,  1.64000000e+02,\n",
       "         2.41000000e+02,  2.53000000e+02,  2.53000000e+02,\n",
       "         2.23000000e+02,  1.59000000e+02,  1.31000000e+02,\n",
       "         2.60000000e+01,  2.30000000e+01,  4.66785637e-15,\n",
       "        -9.74829382e-16, -1.91298725e-16,  1.20654205e-16,\n",
       "        -3.35399732e-18,  2.88165010e-20, -6.83983160e-19,\n",
       "         2.61224845e-18, -8.62659835e-18,  2.88579391e-17,\n",
       "        -1.34125923e-16,  4.15713966e-16, -1.78097878e-15,\n",
       "         1.33766167e-14,  3.69197657e-14,  6.00000000e+01,\n",
       "         1.02000000e+02,  2.18000000e+02,  2.53000000e+02,\n",
       "         2.53000000e+02,  2.16000000e+02,  1.17000000e+02,\n",
       "         3.90000000e+01,  2.70000000e+01,  4.23118868e-15,\n",
       "        -3.80424561e-15, -1.13615961e-15, -9.49324104e-16,\n",
       "         9.46605981e-16,  2.75807138e-16, -3.54023065e-17,\n",
       "         3.91459095e-17,  2.45354403e-17, -2.85201255e-19,\n",
       "         8.19245610e-19, -2.84270339e-18,  8.73552930e-18,\n",
       "        -3.81693048e-17,  1.30493368e-16, -3.76283241e-16,\n",
       "         1.90388284e-15,  2.24453333e-14,  5.40000000e+01,\n",
       "         2.05000000e+02,  2.53000000e+02,  2.53000000e+02,\n",
       "         2.53000000e+02,  1.47000000e+02,  2.80000000e+01,\n",
       "        -1.42668041e-15, -7.14585987e-16, -1.01285882e-15,\n",
       "        -2.45985168e-16, -4.32740206e-16, -4.15573931e-16,\n",
       "        -1.55614557e-16,  8.40294706e-17,  2.23749461e-16,\n",
       "         3.69208743e-17,  1.08344412e-17, -1.36098346e-19,\n",
       "         5.49114520e-19, -1.65235316e-18,  7.28002555e-18,\n",
       "        -2.75219592e-17,  1.00416441e-16, -3.49841947e-16,\n",
       "         1.58356516e-15,  2.49926420e-14,  6.00000000e+01,\n",
       "         2.40000000e+02,  2.53000000e+02,  2.53000000e+02,\n",
       "         2.53000000e+02,  2.43000000e+02,  3.10000000e+01,\n",
       "        -4.39066843e-15, -1.54013567e-15,  7.68252965e-17,\n",
       "        -1.26316496e-16, -4.22834731e-16, -2.48437590e-16,\n",
       "        -1.63130965e-16, -2.24339988e-17,  1.13813179e-17,\n",
       "         2.85390408e-17,  2.15655859e-18,  1.67709983e-18,\n",
       "        -6.79231496e-19,  5.18415521e-19, -2.95553543e-18,\n",
       "         1.10597807e-17, -4.48614545e-17,  1.55886361e-16,\n",
       "        -6.08883518e-16,  2.45874687e-15,  4.12202616e-15,\n",
       "         2.60000000e+01,  8.00000000e+01,  2.08000000e+02,\n",
       "         2.53000000e+02,  2.53000000e+02,  1.47000000e+02,\n",
       "         1.72465058e-14,  1.42122085e-14,  5.12605753e-15,\n",
       "        -1.30855696e-15,  2.88599786e-16, -1.78679282e-16,\n",
       "        -5.61992716e-18, -1.10370464e-17, -2.28879798e-17,\n",
       "         3.45953282e-17, -6.08608126e-18, -1.70441733e-18,\n",
       "        -2.43571406e-19,  2.91838969e-20,  6.25829002e-20,\n",
       "        -4.26058303e-19,  2.21085645e-18, -6.57422381e-18,\n",
       "         2.59522923e-17, -1.16965169e-16,  4.41833390e-16,\n",
       "        -1.67075524e-15,  2.41765241e-14,  3.60000000e+01,\n",
       "         2.22000000e+02,  2.53000000e+02,  2.53000000e+02,\n",
       "         1.21000000e+02,  3.41237155e-14,  2.65078991e-14,\n",
       "         2.74367629e-14,  5.53569440e-15, -1.35517302e-15,\n",
       "        -3.48633482e-17, -2.75242334e-17,  3.68449702e-18,\n",
       "        -3.11287913e-18,  6.29605571e-18, -6.25700649e-19,\n",
       "         1.30098855e-19, -1.06249471e-19,  3.09617973e-21,\n",
       "         4.82847423e-19, -1.56304032e-18,  8.29686018e-18,\n",
       "        -2.07552736e-17,  8.99503970e-17, -3.76510027e-16,\n",
       "         1.28499542e-15, -4.81146148e-15,  2.03403150e-14,\n",
       "         3.05050686e-14,  1.77000000e+02,  2.42000000e+02,\n",
       "         2.53000000e+02,  2.48000000e+02,  1.47000000e+02,\n",
       "         1.48000000e+02,  9.10000000e+01,  2.00000000e+00,\n",
       "         6.45347822e-15,  7.86817202e-16, -1.54796022e-16,\n",
       "        -4.96914880e-17, -1.28215623e-17,  3.43131855e-18,\n",
       "         1.54974410e-18,  5.33809084e-20, -8.50599488e-21,\n",
       "        -5.32382468e-20,  7.99912202e-21, -1.08342904e-20,\n",
       "         2.04744629e-19,  1.29588562e-18,  5.79226363e-19,\n",
       "        -8.47584593e-18, -1.22971927e-17, -2.90738613e-16,\n",
       "         4.05573497e-16,  3.69358628e-16,  1.38564370e-14,\n",
       "         1.90000000e+01,  1.20000000e+02,  1.97000000e+02,\n",
       "         2.53000000e+02,  2.54000000e+02,  2.53000000e+02,\n",
       "         9.70000000e+01,  5.81178196e-16,  6.23520056e-16,\n",
       "        -1.13811132e-17, -4.78466333e-17, -1.01224754e-17,\n",
       "        -2.30349691e-18,  4.84334765e-19, -4.20123950e-21,\n",
       "        -3.47962013e-20,  1.72608681e-19,  2.52347757e-21,\n",
       "         4.66362928e-21,  8.44861921e-22,  1.41034722e-19,\n",
       "         2.37439689e-19, -2.20205772e-17, -2.61847774e-17,\n",
       "        -5.70734700e-17,  2.43486128e-17, -1.30474524e-16,\n",
       "        -1.15138889e-16, -5.91244956e-16,  1.23759856e-14,\n",
       "         1.59045321e-14,  7.20000000e+01,  1.92000000e+02,\n",
       "         2.54000000e+02,  2.54000000e+02,  4.00000000e+01,\n",
       "        -4.75806869e-16,  1.94884653e-16,  6.90689981e-18,\n",
       "         3.87467477e-18, -2.48513433e-18, -3.08797868e-19,\n",
       "        -2.53525223e-19, -6.89319580e-20,  1.63334822e-19,\n",
       "         9.23244432e-21,  8.30172072e-21,  6.59808900e-20,\n",
       "        -2.82797921e-20, -8.35922308e-19,  5.95365139e-17,\n",
       "         6.64544866e-17, -2.09431245e-17,  8.35469198e-18,\n",
       "         8.70450086e-17, -6.52147427e-16,  2.55682381e-16,\n",
       "         1.86369376e-15, -4.59686092e-15,  2.15659726e-14,\n",
       "         6.00000000e+00,  2.42000000e+02,  2.53000000e+02,\n",
       "         3.90000000e+01, -8.96600357e-16,  6.27744888e-16,\n",
       "         7.86779199e-17,  9.90514282e-18, -3.29563018e-19,\n",
       "        -5.75936990e-18, -8.60451257e-19, -2.44213925e-19,\n",
       "         1.02583479e-19, -1.73382691e-20, -5.17652332e-20,\n",
       "         7.55876724e-21, -1.76740342e-18, -4.24854431e-18,\n",
       "        -2.23130731e-16, -2.84054642e-16,  4.75476773e-17,\n",
       "         6.19084981e-17,  6.95282926e-17, -4.54183005e-17,\n",
       "         1.71825824e-17,  5.37926088e-16, -2.09612167e-15,\n",
       "         8.70022571e-15,  2.01800055e-14,  1.21000000e+02,\n",
       "         2.53000000e+02,  1.59000000e+02,  1.28704124e-15,\n",
       "         3.17432039e-16,  1.07774705e-16, -1.30077093e-17,\n",
       "        -1.23778525e-17, -1.27268144e-17, -5.21373416e-19,\n",
       "         2.02490148e-19, -1.23726408e-18,  4.39666422e-19,\n",
       "         8.74515186e-21, -9.08327898e-19, -3.53116790e-18,\n",
       "        -6.44154847e-18,  8.15585135e-16,  1.07603730e-15,\n",
       "        -1.43979447e-16, -2.25423941e-16, -2.09108682e-16,\n",
       "        -1.05436750e-16, -2.17165770e-16,  2.45343658e-16,\n",
       "        -1.83392862e-15,  7.95589165e-15,  2.65120318e-14,\n",
       "         1.08000000e+02,  2.53000000e+02,  1.73000000e+02,\n",
       "         1.15266492e-15, -5.64491610e-16,  2.97705957e-17,\n",
       "         3.94838280e-17, -9.89619621e-18, -9.65624560e-18,\n",
       "        -1.86679968e-18, -2.50843634e-19, -1.46663448e-18,\n",
       "         1.07767326e-18,  2.56438105e-18, -3.52894182e-18,\n",
       "         2.01040712e-18,  9.21253713e-18, -3.30294182e-15,\n",
       "        -3.70070376e-15,  7.70045002e-16,  7.29839407e-16,\n",
       "         8.20607248e-16,  8.11603294e-16,  7.50560621e-16,\n",
       "         1.28080389e-15, -1.01193692e-15,  6.25745101e-15,\n",
       "         2.48562596e-14,  1.08000000e+02,  2.53000000e+02,\n",
       "         1.73000000e+02, -1.39587808e-16, -6.06226862e-17,\n",
       "        -2.32880285e-16,  8.79192427e-17,  7.18745799e-18,\n",
       "        -1.29924073e-17,  1.23442801e-18,  1.16491533e-18,\n",
       "        -9.54193178e-19, -8.47166744e-19,  3.39443697e-18,\n",
       "        -1.18632194e-17, -1.83916045e-17,  4.69204286e-16,\n",
       "         2.30959098e-14,  1.49065642e-14, -1.37906994e-15,\n",
       "        -3.04885695e-15, -3.24892182e-15, -3.00305059e-15,\n",
       "        -3.44914265e-15, -2.95777415e-15, -4.78701864e-15,\n",
       "         1.42137234e-14,  5.33980068e-14,  1.08000000e+02,\n",
       "         2.53000000e+02,  7.40000000e+01,  3.31452053e-16,\n",
       "        -2.20001777e-16, -9.41601627e-17,  7.48695989e-18,\n",
       "        -1.62581387e-18, -3.90422970e-18,  4.34233670e-19,\n",
       "         2.85191533e-19, -3.67879715e-20, -5.81758703e-17,\n",
       "         2.29959592e-16, -8.13090240e-16,  3.29995712e-15,\n",
       "        -1.18187508e-15,  2.20000000e+01,  2.76134362e-14,\n",
       "         2.83539519e-14,  1.50449508e-14,  1.24277076e-14,\n",
       "         1.28140974e-14,  1.03361920e-14,  1.23514499e-14,\n",
       "         2.42277958e-14,  4.26607391e-14,  2.00000000e+01,\n",
       "         2.01000000e+02,  2.53000000e+02,  3.90000000e+01,\n",
       "         2.07773679e-16,  1.28225789e-16, -4.93388030e-17,\n",
       "        -7.84892890e-18,  6.11967393e-19,  5.49242735e-19,\n",
       "         2.20045375e-19,  3.42477012e-20,  1.91841170e-19,\n",
       "        -4.46155322e-16,  1.65417453e-15, -5.32052829e-15,\n",
       "         2.29863633e-14,  1.52625208e-14,  1.96000000e+02,\n",
       "         1.61000000e+02,  4.10000000e+01,  5.00000000e+00,\n",
       "         3.73040462e-14,  3.57746070e-14,  3.60538374e-14,\n",
       "         3.00000000e+00,  2.70000000e+01,  9.80000000e+01,\n",
       "         2.06000000e+02,  2.53000000e+02,  1.94000000e+02,\n",
       "         1.50000000e+01, -4.06753224e-16,  1.39804805e-16,\n",
       "        -7.39697707e-17, -6.55604861e-18,  1.20630963e-18,\n",
       "        -7.84491104e-20,  1.88958982e-20, -8.01434438e-20,\n",
       "         2.66102493e-19, -1.82200797e-16,  7.06150928e-16,\n",
       "        -2.52414356e-15,  9.36147513e-15,  2.29766027e-14,\n",
       "         1.15000000e+02,  2.40000000e+02,  2.52000000e+02,\n",
       "         1.63000000e+02,  1.47000000e+02,  1.47000000e+02,\n",
       "         1.47000000e+02,  1.58000000e+02,  2.53000000e+02,\n",
       "         2.53000000e+02,  2.55000000e+02,  1.84000000e+02,\n",
       "         6.70000000e+01,  2.86762180e-17, -5.23207426e-17,\n",
       "        -2.88231110e-17, -4.22680218e-17, -1.87243999e-18,\n",
       "         7.65818863e-19,  2.74848322e-19,  2.07592061e-20,\n",
       "        -8.92087857e-21,  1.08680268e-19, -2.13315104e-17,\n",
       "         7.73029933e-17, -2.87189284e-16,  9.49183242e-16,\n",
       "        -4.02641112e-15,  1.82187910e-14,  1.87579310e-14,\n",
       "         1.57000000e+02,  2.53000000e+02,  2.53000000e+02,\n",
       "         2.53000000e+02,  2.53000000e+02,  2.53000000e+02,\n",
       "         2.53000000e+02,  2.53000000e+02,  1.21000000e+02,\n",
       "         6.00000000e+00,  1.57548594e-15,  1.91086980e-16,\n",
       "        -8.08766567e-18, -1.19849212e-17, -5.03356148e-18,\n",
       "        -7.48611348e-20,  1.39317853e-19,  4.07651598e-20,\n",
       "         3.36744014e-21,  1.15642277e-21,  1.26665318e-20,\n",
       "        -8.33528238e-19,  8.73009966e-20, -3.22051115e-19,\n",
       "        -2.71577689e-18, -2.32057307e-18, -4.85750023e-16,\n",
       "         7.27983556e-15, -1.35041680e-15,  1.90015988e-15,\n",
       "        -2.39900707e-16, -8.21364457e-15,  1.12253550e-14,\n",
       "         1.55798232e-14,  8.61480171e-15,  2.21688583e-14,\n",
       "        -7.00461483e-16,  2.16409413e-15,  5.50646172e-16,\n",
       "         2.17266877e-17,  3.88479089e-18,  3.53647799e-19,\n",
       "        -5.41301338e-20, -1.87544264e-20,  5.93088742e-21,\n",
       "        -8.00255384e-22, -4.84960708e-22, -3.01399443e-23,\n",
       "         5.79269199e-23, -2.57474107e-19, -2.67098394e-20,\n",
       "        -2.31997730e-19, -2.14204707e-19, -1.65863911e-18,\n",
       "        -5.38379530e-16,  1.25009558e-15,  1.00038939e-15,\n",
       "         7.01248674e-15, -3.22481159e-16,  5.44074703e-15,\n",
       "         1.62139410e-16,  2.95816998e-15,  1.69123157e-15,\n",
       "         2.78370263e-15,  6.58756521e-16, -3.72645685e-16,\n",
       "        -1.05769449e-16,  4.73909017e-18,  4.32684784e-19,\n",
       "        -9.29677510e-20, -4.17563183e-20, -6.29285926e-21,\n",
       "         1.57415627e-21,  1.30225992e-23,  5.71918969e-23,\n",
       "         8.45252726e-24, -8.39319121e-25, -4.07053989e-20,\n",
       "        -1.43429570e-20, -2.38955173e-20, -5.27145454e-21,\n",
       "        -5.85849599e-19,  5.29844396e-16,  2.15268144e-15,\n",
       "        -3.53931919e-15, -8.63382476e-15, -8.24013727e-15,\n",
       "        -8.22027303e-15, -8.32119892e-15, -8.31666710e-15,\n",
       "        -4.72158694e-15, -6.43627163e-15, -1.60149769e-15,\n",
       "         8.94678629e-16,  2.29567819e-16, -1.98121566e-17,\n",
       "        -2.35176744e-19, -5.29275627e-20, -1.34727192e-20,\n",
       "        -1.81391570e-21,  1.27207512e-21,  4.67158277e-23,\n",
       "        -8.50467530e-24, -1.69050545e-23,  1.67863824e-24,\n",
       "         0.00000000e+00,  0.00000000e+00,  0.00000000e+00,\n",
       "         0.00000000e+00,  0.00000000e+00,  0.00000000e+00,\n",
       "         0.00000000e+00,  0.00000000e+00,  0.00000000e+00,\n",
       "         0.00000000e+00,  0.00000000e+00,  0.00000000e+00,\n",
       "         0.00000000e+00,  0.00000000e+00,  0.00000000e+00,\n",
       "         0.00000000e+00,  0.00000000e+00,  0.00000000e+00,\n",
       "         0.00000000e+00,  0.00000000e+00,  0.00000000e+00,\n",
       "         0.00000000e+00,  0.00000000e+00,  0.00000000e+00,\n",
       "         0.00000000e+00,  0.00000000e+00,  0.00000000e+00,\n",
       "         0.00000000e+00]]),\n",
       "       array([[-4.23908997e-25, -1.49786600e-24,  1.86587963e-24,\n",
       "         2.29856689e-23,  4.84665101e-23,  1.07087212e-22,\n",
       "         5.08672020e-22, -9.44889295e-22, -1.49051805e-20,\n",
       "         2.87467109e-21, -3.02616223e-19, -2.25244857e-18,\n",
       "         3.11171410e-18, -4.84841754e-18,  4.85113216e-18,\n",
       "        -3.22003339e-17,  7.99118143e-16, -1.88115872e-15,\n",
       "         1.42947152e-14,  3.68992710e-14,  2.21049500e-14,\n",
       "         2.56812711e-15, -1.65234913e-16, -1.79521033e-17,\n",
       "         1.85128394e-17, -1.45016408e-18,  2.03296642e-18,\n",
       "         2.85927750e-18,  2.15726678e-24, -1.20304396e-23,\n",
       "         1.03957252e-23, -5.27135184e-23,  5.48745607e-23,\n",
       "        -5.07827895e-22,  6.51451003e-21, -1.55912580e-20,\n",
       "         4.90495650e-20, -2.75090756e-19,  1.45649502e-18,\n",
       "        -1.45204397e-18, -1.54669467e-17, -1.62345611e-17,\n",
       "         2.38060690e-16, -3.81597850e-16,  3.42244518e-18,\n",
       "         2.59072509e-14,  5.50000000e+01,  1.92000000e+02,\n",
       "         2.30000000e+02,  2.70000000e+01,  2.47280317e-16,\n",
       "         3.17956032e-16,  8.01439402e-17, -4.51013884e-18,\n",
       "         8.09870582e-18, -9.12798688e-18,  2.06708674e-23,\n",
       "        -5.31437758e-23, -1.65452788e-23, -4.89480040e-22,\n",
       "        -9.01773700e-23, -6.47402707e-21, -6.68911150e-22,\n",
       "        -8.77872056e-20,  6.55842287e-20,  1.25550975e-19,\n",
       "         4.28390819e-18, -2.97628455e-17,  1.40503141e-16,\n",
       "        -4.17136617e-16,  5.16804650e-16, -2.06678342e-15,\n",
       "         3.05542907e-14,  8.00000000e+00,  1.52000000e+02,\n",
       "         2.52000000e+02,  1.93000000e+02,  2.70000000e+01,\n",
       "         2.82218258e-17,  8.51711366e-17,  3.93756101e-17,\n",
       "         3.51412145e-18,  1.86221491e-18, -5.54197024e-18,\n",
       "        -4.49886789e-23,  7.19335478e-25, -4.34344696e-22,\n",
       "         8.89626501e-22, -5.13586456e-21,  5.77542361e-21,\n",
       "        -4.67497060e-20,  2.07493282e-19, -9.56247975e-19,\n",
       "         3.80584598e-18,  9.72266497e-18,  1.05451561e-16,\n",
       "        -4.25314689e-16,  6.38980989e-16, -8.28048040e-16,\n",
       "         1.27090241e-14,  8.00000000e+00,  1.29000000e+02,\n",
       "         2.52000000e+02,  1.90000000e+02,  9.00000000e+00,\n",
       "         1.81897592e-15,  2.72560107e-16, -1.11281873e-16,\n",
       "        -4.96088817e-18, -8.80582652e-19,  1.92379563e-18,\n",
       "         6.46687675e-18,  1.72427721e-23, -4.64872673e-22,\n",
       "         2.13341550e-21, -7.00999813e-21,  3.18358077e-20,\n",
       "        -7.25302182e-20,  4.57674007e-19, -1.36481484e-18,\n",
       "         3.90638042e-18, -2.09791533e-17,  6.92965334e-17,\n",
       "        -5.57874467e-16,  2.10640462e-15, -6.31354830e-15,\n",
       "         1.37723675e-14,  4.89986495e-14,  1.55000000e+02,\n",
       "         2.52000000e+02,  2.10000000e+02,  1.40000000e+01,\n",
       "        -1.98084709e-15, -9.10100932e-16,  1.43323247e-16,\n",
       "         1.10433815e-16,  2.14876233e-17, -3.68294501e-18,\n",
       "        -1.35433770e-19, -1.11501561e-18,  1.49518750e-22,\n",
       "         7.15194062e-22, -1.21034999e-21,  4.76148060e-21,\n",
       "        -1.78355724e-20,  1.67073967e-19, -2.13057268e-19,\n",
       "         1.50460745e-18,  1.30829529e-19, -7.76013198e-18,\n",
       "         5.53924666e-18,  1.11004452e-15, -5.27651767e-15,\n",
       "         1.49858697e-14,  4.67022537e-14,  6.20000000e+01,\n",
       "         2.16000000e+02,  1.99000000e+02,  6.60000000e+01,\n",
       "         2.53187015e-15, -2.17753410e-15, -2.98577411e-16,\n",
       "         1.05900766e-17,  3.52936345e-17,  4.48524760e-18,\n",
       "        -1.72423963e-18, -3.24628996e-19, -4.02645623e-19,\n",
       "        -4.97037416e-22,  4.14522840e-21, -1.90484915e-20,\n",
       "         4.66377492e-20, -1.81055032e-19,  9.52019905e-19,\n",
       "        -2.88923713e-18,  1.51194946e-17, -5.30248703e-17,\n",
       "         1.73718193e-16, -6.37205250e-16, -9.53633462e-16,\n",
       "         1.39785972e-14,  1.10000000e+01,  4.30000000e+01,\n",
       "         2.54000000e+02,  2.22000000e+02,  6.20000000e+01,\n",
       "        -7.46359631e-17,  4.40223583e-16, -1.35936571e-16,\n",
       "         1.06208312e-16,  6.73273012e-17,  1.62021762e-17,\n",
       "        -6.18781584e-20, -2.29735310e-19, -2.34440384e-20,\n",
       "         8.40128981e-20, -2.26585550e-21,  2.53566937e-20,\n",
       "        -7.03617989e-20,  3.71286983e-19, -1.18439317e-18,\n",
       "         5.17042833e-18, -1.76545976e-17,  7.94757813e-17,\n",
       "        -2.24693614e-16,  6.58736899e-16, -1.42160064e-15,\n",
       "         2.93889893e-14,  5.19247599e-14,  1.43000000e+02,\n",
       "         2.52000000e+02,  2.22000000e+02,  1.60000000e+01,\n",
       "        -4.56833776e-16, -2.44229624e-16, -1.86272044e-16,\n",
       "        -4.54765739e-16, -3.84327122e-16, -2.05522482e-16,\n",
       "        -5.32222057e-17, -9.55727685e-20, -7.41863601e-20,\n",
       "        -2.78101327e-20,  2.95728288e-20,  4.80383800e-20,\n",
       "        -9.64475796e-20,  4.55066002e-19, -1.48029446e-18,\n",
       "         6.24029993e-18, -2.13340620e-17,  7.94711523e-17,\n",
       "        -3.32565002e-16,  7.96553834e-16, -4.13710326e-15,\n",
       "         1.88008860e-14,  4.20956396e-14,  1.69000000e+02,\n",
       "         2.46000000e+02,  2.08000000e+02,  1.70000000e+01,\n",
       "        -1.26861627e-14, -2.88270346e-15, -3.95563967e-16,\n",
       "         6.85205509e-16,  9.02370242e-16,  1.31564785e-15,\n",
       "         9.00097809e-16,  1.75798864e-16, -2.12900495e-19,\n",
       "        -1.37495241e-19, -3.67176419e-20,  5.39728472e-20,\n",
       "        -2.91083326e-20,  1.81687526e-19, -7.24746825e-19,\n",
       "         2.90703515e-18, -9.11446020e-18,  3.96091710e-17,\n",
       "        -1.38245874e-16,  5.68377532e-16, -1.35318117e-15,\n",
       "         8.98339479e-15,  1.10000000e+01,  1.43000000e+02,\n",
       "         2.46000000e+02,  2.36000000e+02,  1.01000000e+02,\n",
       "        -3.31859416e-15, -8.84881227e-16,  1.16634663e-15,\n",
       "         1.23906044e-15, -2.35407624e-15, -5.03495340e-15,\n",
       "        -4.73954056e-15, -3.51281544e-15, -7.13999295e-16,\n",
       "        -1.73510916e-18,  1.08613061e-19, -2.17226121e-19,\n",
       "         2.18190338e-19,  1.43070361e-19, -2.68097955e-19,\n",
       "         7.66691134e-19, -3.66602832e-18,  2.43057630e-17,\n",
       "        -8.73884298e-18,  2.70440080e-16, -6.85536890e-16,\n",
       "         1.75779890e-16,  3.36679130e-14,  6.90000000e+01,\n",
       "         2.26000000e+02,  1.99000000e+02,  1.11000000e+02,\n",
       "         6.69866427e-15, -1.66695983e-15, -2.44051663e-15,\n",
       "        -5.05396711e-15, -3.24332595e-15,  1.10073348e-14,\n",
       "         1.88349130e-14,  1.87388796e-14,  1.36672388e-14,\n",
       "         2.85107002e-15, -2.86799564e-17,  2.41375430e-18,\n",
       "         5.93502261e-19,  1.28376882e-18,  8.03324770e-19,\n",
       "        -2.47265384e-18,  9.03308046e-18, -3.60449128e-17,\n",
       "         1.36447613e-16, -3.86701290e-16,  2.12433309e-15,\n",
       "        -6.69021488e-15,  3.90472358e-14,  5.69551129e-14,\n",
       "         2.54000000e+02,  2.53000000e+02,  2.10000000e+01,\n",
       "        -2.11518145e-16,  1.00295100e-15, -1.22113090e-15,\n",
       "         1.04650124e-14,  2.04932201e-14,  2.78878789e-14,\n",
       "         3.29317537e-14,  2.93933212e-14,  3.29237433e-14,\n",
       "         2.94529901e-14,  3.85537571e-15, -1.24454831e-16,\n",
       "         1.01857114e-17,  1.30220041e-17,  3.64576433e-18,\n",
       "        -9.15542712e-19,  3.60193905e-18, -1.40885247e-17,\n",
       "         3.75733292e-17, -2.41155563e-16,  5.39138598e-16,\n",
       "        -2.35961731e-15,  8.25639634e-15,  4.69918403e-14,\n",
       "         1.24000000e+02,  2.53000000e+02,  1.10000000e+02,\n",
       "         5.00000000e+00,  1.09805792e-15, -7.96713987e-16,\n",
       "         2.42109985e-14,  2.55788911e-14,  3.78362040e-14,\n",
       "         2.20000000e+01,  1.28000000e+02,  1.91000000e+02,\n",
       "         1.90000000e+02,  1.37000000e+02,  2.80000000e+01,\n",
       "        -1.12287230e-16,  3.18574864e-17,  2.30212010e-17,\n",
       "         1.48355875e-17,  3.58553621e-18, -1.17688457e-17,\n",
       "         4.56582508e-17, -1.49613795e-16,  6.06573357e-16,\n",
       "        -2.30178086e-15,  8.94180349e-15,  3.46045807e-14,\n",
       "         1.12000000e+02,  2.41000000e+02,  1.70000000e+02,\n",
       "         3.20000000e+01, -1.57768218e-16,  1.34434906e-15,\n",
       "         3.06267505e-14,  3.10000000e+01,  1.27000000e+02,\n",
       "         1.80000000e+02,  2.37000000e+02,  2.52000000e+02,\n",
       "         2.53000000e+02,  2.52000000e+02,  2.42000000e+02,\n",
       "         4.20000000e+01,  3.87516615e-16,  2.83290648e-16,\n",
       "         3.62351109e-17, -9.34294613e-17,  5.86902979e-18,\n",
       "        -2.12261752e-17,  8.53782538e-17, -2.72148263e-16,\n",
       "         1.11597183e-15, -3.79536414e-15,  1.68916923e-14,\n",
       "         6.00000000e+00,  1.90000000e+02,  2.26000000e+02,\n",
       "         5.09340520e-15, -9.80604758e-16, -2.70618018e-15,\n",
       "         3.01233526e-14,  2.70000000e+01,  2.18000000e+02,\n",
       "         2.52000000e+02,  1.94000000e+02,  1.62000000e+02,\n",
       "         8.40000000e+01,  8.40000000e+01,  1.31000000e+02,\n",
       "         2.32000000e+02,  3.50000000e+01, -5.55213416e-16,\n",
       "         2.08217769e-16,  5.54092480e-17, -2.00871262e-16,\n",
       "        -1.44752733e-17,  3.76571544e-17, -1.26612365e-16,\n",
       "         5.24303458e-16, -1.95672368e-15,  7.58793866e-15,\n",
       "         3.60646737e-14,  1.10000000e+02,  2.52000000e+02,\n",
       "         1.47000000e+02,  1.60884828e-15, -4.12369810e-15,\n",
       "         2.08212879e-14,  2.56453465e-14,  1.94000000e+02,\n",
       "         2.53000000e+02,  2.17000000e+02,  5.60000000e+01,\n",
       "         6.99301609e-15,  4.10629784e-14,  1.80000000e+01,\n",
       "         2.16000000e+02,  1.87000000e+02, -3.35806774e-15,\n",
       "        -6.09334409e-16, -7.69719603e-17,  2.09455072e-16,\n",
       "        -3.72270268e-16, -4.89386694e-17,  1.29730496e-16,\n",
       "        -4.27482591e-16,  1.84214311e-15, -6.67047300e-15,\n",
       "         2.47539479e-14,  2.57283623e-14,  2.33000000e+02,\n",
       "         2.16000000e+02,  1.80000000e+01,  1.70621002e-15,\n",
       "        -6.24711597e-15,  1.75628846e-14,  2.70000000e+01,\n",
       "         1.94000000e+02,  1.50000000e+02,  1.06000000e+02,\n",
       "         9.00000000e+00,  4.03227487e-14,  1.24000000e+02,\n",
       "         2.55000000e+02,  1.86000000e+02,  9.00000000e+00,\n",
       "        -6.09710496e-15, -6.28574626e-16, -8.29643631e-17,\n",
       "         5.46680465e-18,  6.89034001e-17, -1.47312455e-18,\n",
       "        -1.73276174e-17,  6.38447001e-17, -6.45788353e-17,\n",
       "         1.04101570e-15,  2.93205744e-14,  6.40000000e+01,\n",
       "         2.47000000e+02,  1.10000000e+02,  1.49658585e-14,\n",
       "         3.13697793e-15,  1.71000542e-14,  2.48413958e-14,\n",
       "         3.27164126e-14,  2.86806283e-14,  2.90483400e-14,\n",
       "         4.66648403e-15,  8.70000000e+01,  1.46000000e+02,\n",
       "         1.63000000e+02,  6.30000000e+01,  1.60000000e+01,\n",
       "         1.76309633e-15, -3.56648411e-16, -7.52690870e-17,\n",
       "         1.21148321e-19, -5.77172772e-18,  7.35325128e-18,\n",
       "        -3.55900560e-17,  1.18375803e-16, -3.79583080e-16,\n",
       "         1.73302343e-15, -5.54463628e-15,  2.71763405e-14,\n",
       "         1.40000000e+01,  2.36000000e+02,  1.28000000e+02,\n",
       "         2.95935134e-14,  4.07105693e-14,  3.16254660e-14,\n",
       "         1.10000000e+01,  2.20000000e+01,  6.60000000e+01,\n",
       "         1.28000000e+02,  2.06000000e+02,  2.31000000e+02,\n",
       "         1.78000000e+02,  1.20000000e+01,  6.27920560e-18,\n",
       "        -4.46613191e-16, -6.50159477e-16, -4.26374801e-17,\n",
       "         2.88069865e-17,  1.26322816e-18,  4.95453868e-18,\n",
       "        -1.45732355e-18, -2.07599182e-17,  7.28334133e-17,\n",
       "        -2.33494021e-16,  9.94716377e-16, -3.64128808e-15,\n",
       "         2.64046773e-14,  2.80000000e+01,  2.39000000e+02,\n",
       "         1.96000000e+02,  1.69000000e+02,  8.20000000e+01,\n",
       "         1.69000000e+02,  2.11000000e+02,  2.52000000e+02,\n",
       "         2.52000000e+02,  1.28000000e+02,  8.40000000e+01,\n",
       "         7.00000000e+00,  2.92465939e-15,  1.48490876e-15,\n",
       "        -4.37682333e-16, -2.51740784e-16, -2.58659148e-16,\n",
       "        -5.91771090e-17, -9.80692259e-18,  1.24427896e-18,\n",
       "         7.50496061e-19,  4.15806134e-19, -1.05433666e-17,\n",
       "         4.27854089e-17, -1.48346785e-16,  5.05498919e-16,\n",
       "        -2.01676358e-15,  2.50201617e-14,  3.60000000e+01,\n",
       "         2.41000000e+02,  2.52000000e+02,  2.52000000e+02,\n",
       "         2.53000000e+02,  2.17000000e+02,  1.38000000e+02,\n",
       "         4.20000000e+01,  4.20000000e+01, -4.15444490e-16,\n",
       "        -1.92911585e-15, -1.10434255e-15, -2.43183904e-15,\n",
       "        -2.05939370e-16, -1.35483869e-17,  5.88201370e-17,\n",
       "        -7.89737015e-17, -1.56682742e-17, -4.55404451e-18,\n",
       "        -1.12805019e-18,  1.94422194e-19,  9.96396643e-20,\n",
       "        -4.92442503e-19,  7.83591488e-19, -2.53350323e-18,\n",
       "        -1.04362682e-17,  5.89781915e-18, -7.25550540e-17,\n",
       "         8.25791862e-16, -6.85160758e-15,  8.30239555e-15,\n",
       "         6.60308752e-15,  3.40907664e-15, -1.25665970e-14,\n",
       "        -3.96019753e-15, -3.22826717e-15, -5.40006025e-16,\n",
       "        -3.18191019e-15, -1.67227615e-16,  4.04817239e-16,\n",
       "         9.51965237e-18,  1.09065940e-16, -3.23358704e-17,\n",
       "         5.18453301e-18, -9.61417657e-18,  3.29269837e-18,\n",
       "         2.69676531e-20, -4.09895246e-19,  1.59562248e-20,\n",
       "         4.71606883e-21, -7.37729823e-20, -7.15755081e-20,\n",
       "        -8.96921879e-19, -2.31740145e-18,  4.31183595e-18,\n",
       "         9.74208841e-17,  3.16117904e-16, -1.89126226e-15,\n",
       "         2.45168560e-15, -1.95034400e-15,  1.43305110e-15,\n",
       "         1.09869874e-15,  4.32617586e-16, -3.77118016e-16,\n",
       "        -5.14624513e-16, -7.08681714e-16, -2.29572952e-16,\n",
       "        -3.29310993e-16, -2.79135374e-17, -3.07561416e-18,\n",
       "        -1.43174465e-17, -7.36771093e-19,  4.17888285e-19,\n",
       "         2.88372777e-18,  1.08518173e-19, -1.18633590e-19,\n",
       "        -1.61015498e-20, -9.78118149e-22,  3.19810436e-20,\n",
       "        -1.38147486e-19, -3.02707123e-19,  2.76045806e-20,\n",
       "        -2.32848125e-18,  3.06835745e-17,  2.60991630e-17,\n",
       "         8.85813506e-16, -6.16186406e-16, -2.29568616e-17,\n",
       "        -1.63339782e-15,  6.98613301e-16, -4.96994628e-17,\n",
       "        -3.48345286e-17, -7.29700751e-17, -4.27520580e-17,\n",
       "        -1.08258135e-17, -3.55996483e-17, -1.79951035e-17,\n",
       "        -7.53364435e-18, -6.86123181e-18, -1.87153040e-18,\n",
       "         7.63172166e-19,  6.05330858e-19, -3.21903522e-21,\n",
       "         3.38968189e-22,  3.45134924e-21,  2.05513997e-21,\n",
       "         5.98814732e-21, -8.56815820e-21, -8.09827647e-20,\n",
       "         1.60551529e-19,  6.89691624e-20, -6.21409785e-20,\n",
       "        -4.18092156e-18,  2.49265167e-16, -2.33691645e-17,\n",
       "        -1.88682948e-16, -1.73019179e-16, -2.10334005e-16,\n",
       "        -1.55757178e-16,  2.93240940e-17, -2.05246036e-17,\n",
       "         2.75070383e-17,  5.29510971e-18, -1.00256165e-18,\n",
       "        -1.58737197e-18,  2.91103103e-19, -1.58877247e-18,\n",
       "        -4.77829738e-19,  2.36039227e-19,  1.00289552e-19,\n",
       "        -1.26328028e-20,  4.41057727e-21,  1.87263641e-21,\n",
       "         3.54385027e-22,  1.82299890e-22, -1.22163506e-21,\n",
       "        -2.04949898e-20,  7.55782979e-20,  3.44986179e-19,\n",
       "         4.64751358e-19,  4.50231108e-18, -5.79450751e-17,\n",
       "        -7.09625001e-17, -7.23258483e-17, -7.79848411e-17,\n",
       "        -9.58017587e-17, -2.54980239e-17,  9.96638781e-18,\n",
       "         5.66543022e-18,  1.44727486e-17,  1.57159850e-18,\n",
       "        -6.14005754e-19,  2.66054793e-18,  1.84946413e-18,\n",
       "         4.27818238e-19, -1.55853853e-19,  1.21415058e-19,\n",
       "         4.65651369e-21, -2.25980719e-21, -8.02390317e-22,\n",
       "        -1.62077154e-22, -7.13133949e-23,  5.89166940e-23,\n",
       "        -9.78287280e-23,  7.10866180e-21, -2.07879709e-21,\n",
       "        -9.36611635e-20,  1.54699456e-19,  2.43355937e-17,\n",
       "         1.07415224e-16,  1.37216264e-16,  1.51858328e-16,\n",
       "         1.69238870e-16,  9.39406790e-17,  5.65213504e-17,\n",
       "        -1.36784940e-17, -1.25454581e-17, -1.60090938e-17,\n",
       "        -5.50997156e-18,  1.08311594e-17,  9.15977676e-18,\n",
       "        -7.50065731e-19,  9.43399471e-20,  3.08422312e-19,\n",
       "        -3.39087066e-20,  1.49155987e-20,  2.61379024e-21,\n",
       "        -3.63457006e-23, -3.31877172e-23, -1.22071006e-22,\n",
       "         0.00000000e+00,  0.00000000e+00,  0.00000000e+00,\n",
       "         0.00000000e+00,  0.00000000e+00,  0.00000000e+00,\n",
       "         0.00000000e+00,  0.00000000e+00,  0.00000000e+00,\n",
       "         0.00000000e+00,  0.00000000e+00,  0.00000000e+00,\n",
       "         0.00000000e+00,  0.00000000e+00,  0.00000000e+00,\n",
       "         0.00000000e+00,  0.00000000e+00,  0.00000000e+00,\n",
       "         0.00000000e+00,  0.00000000e+00,  0.00000000e+00,\n",
       "         0.00000000e+00,  0.00000000e+00,  0.00000000e+00,\n",
       "         0.00000000e+00,  0.00000000e+00,  0.00000000e+00,\n",
       "         0.00000000e+00]]),\n",
       "       array([[ 7.22829133e-25,  1.33294048e-24,  1.39003446e-24,\n",
       "         1.95767013e-23,  8.90480053e-23,  4.45043659e-22,\n",
       "        -7.07930614e-22,  1.75967600e-21, -2.07825255e-21,\n",
       "         4.05302581e-20,  1.64391029e-19,  3.70083872e-18,\n",
       "        -3.54897896e-18,  2.37871418e-17,  2.64716164e-17,\n",
       "         9.98523846e-17,  3.03979823e-17,  9.33003286e-18,\n",
       "         1.27956500e-17,  6.26815981e-17, -2.23668646e-17,\n",
       "        -3.36364393e-18, -2.02022423e-18,  3.40313081e-18,\n",
       "        -2.02882940e-17, -3.29334574e-17, -3.01629267e-19,\n",
       "        -6.24810934e-19, -3.21420744e-25,  7.81129338e-24,\n",
       "         7.12655541e-24,  3.31656565e-23,  2.44022623e-22,\n",
       "         1.79561484e-21, -4.87281999e-21, -2.66393898e-21,\n",
       "         1.54637004e-20, -1.73774323e-19,  4.44295402e-19,\n",
       "        -8.64326241e-18,  1.12786728e-17, -8.80057591e-17,\n",
       "        -8.48845374e-17, -3.63579816e-16, -1.20855365e-16,\n",
       "        -4.30956750e-17, -3.33525440e-17, -1.42517562e-16,\n",
       "         4.99245252e-17,  1.69305401e-17,  7.09535057e-18,\n",
       "        -1.12089661e-17,  7.17441219e-17,  1.24373499e-16,\n",
       "        -7.21253085e-18, -2.07803677e-18,  1.39003446e-24,\n",
       "         2.03614452e-23,  8.59090297e-23,  3.30491301e-23,\n",
       "         9.95318051e-23,  1.90161764e-21, -2.67067899e-21,\n",
       "         1.56723435e-20,  1.43511358e-19, -6.19370520e-19,\n",
       "        -2.59209394e-18,  2.37164766e-17, -8.23317141e-17,\n",
       "         3.27802214e-16,  3.68577685e-16,  1.47036809e-15,\n",
       "         4.69069668e-16,  1.87121955e-16,  1.74390954e-16,\n",
       "         8.07495812e-16, -1.97280556e-16, -4.21323721e-17,\n",
       "        -7.06237938e-18,  3.92643292e-17, -2.92709046e-16,\n",
       "        -4.08182026e-16,  1.72143770e-18,  2.64858543e-18,\n",
       "         1.95767013e-23, -1.97739028e-23,  2.44807367e-22,\n",
       "         9.46368566e-22, -1.48918279e-21, -1.61783490e-20,\n",
       "        -1.15495184e-20,  1.43262472e-19,  3.04957659e-19,\n",
       "         9.16532928e-19, -7.42315440e-18, -1.90306052e-16,\n",
       "         2.85088437e-16, -1.21886629e-15, -1.37554841e-15,\n",
       "        -4.58808077e-15, -1.71639203e-15, -6.08247632e-16,\n",
       "        -6.43394589e-16, -2.80644048e-15,  1.10348963e-15,\n",
       "         2.47876101e-16,  6.79917008e-17, -1.50185159e-16,\n",
       "         1.19970602e-15,  2.42255388e-15,  1.01808103e-16,\n",
       "         5.30663785e-17, -1.68311131e-23, -1.79493851e-22,\n",
       "         1.79359770e-21,  5.28708079e-21, -2.61313011e-21,\n",
       "        -9.30422840e-20, -2.89944426e-19, -5.61617179e-19,\n",
       "        -1.14650156e-18,  2.15740924e-18, -3.71042275e-17,\n",
       "         2.55254607e-16, -9.67816415e-16,  5.13399947e-15,\n",
       "         5.13361597e-15,  1.95369493e-14,  2.44098670e-14,\n",
       "         2.60827039e-14,  2.61302046e-14,  2.07988514e-14,\n",
       "        -2.99716736e-15, -7.03041299e-16, -4.03682302e-16,\n",
       "         6.89845846e-16, -4.49223725e-15, -4.91746922e-15,\n",
       "         1.77881238e-17,  9.03972325e-17, -3.62091381e-22,\n",
       "         8.00389663e-22,  5.84262044e-21,  2.24159407e-20,\n",
       "         2.30782295e-20,  7.06438075e-21, -2.17941853e-20,\n",
       "        -3.28689114e-18,  5.35051608e-18, -3.59726777e-17,\n",
       "         2.11470690e-16, -2.40764826e-15,  3.93329141e-15,\n",
       "         1.37096630e-14,  3.15874691e-14,  2.73181890e-14,\n",
       "         3.80000000e+01,  4.80000000e+01,  4.80000000e+01,\n",
       "         2.20000000e+01,  3.59433318e-14,  4.68252547e-15,\n",
       "         1.25294182e-15, -1.80365057e-15,  1.37159480e-14,\n",
       "         2.46859081e-14, -9.91931783e-16, -6.91575102e-16,\n",
       "        -3.89270235e-21,  1.53056417e-20, -4.58949195e-20,\n",
       "         2.02155354e-19, -5.52662327e-19,  2.46994980e-18,\n",
       "        -9.11938963e-18,  3.66319995e-17, -1.18279675e-16,\n",
       "         4.85319761e-16, -1.91509736e-15,  1.04871807e-14,\n",
       "         3.07156581e-14,  6.20000000e+01,  9.70000000e+01,\n",
       "         1.98000000e+02,  2.43000000e+02,  2.54000000e+02,\n",
       "         2.54000000e+02,  2.12000000e+02,  2.70000000e+01,\n",
       "         1.35461309e-14, -4.48079469e-15,  1.84072356e-14,\n",
       "         2.24581921e-14,  4.78983880e-15,  5.35119545e-16,\n",
       "         1.25483037e-16,  5.54660985e-21, -3.46382397e-20,\n",
       "         1.53335140e-19, -5.61761660e-19,  1.92430491e-18,\n",
       "        -6.81269752e-18,  2.36256979e-17, -7.25945094e-17,\n",
       "         3.94946562e-16, -1.15557582e-15,  5.97304700e-15,\n",
       "         3.61118441e-14,  6.70000000e+01,  1.72000000e+02,\n",
       "         2.54000000e+02,  2.54000000e+02,  2.25000000e+02,\n",
       "         2.18000000e+02,  2.18000000e+02,  2.37000000e+02,\n",
       "         2.48000000e+02,  4.00000000e+01,  4.11175257e-14,\n",
       "         2.10000000e+01,  1.64000000e+02,  1.87000000e+02,\n",
       "         2.74749608e-15,  2.10259192e-14, -5.36921769e-20,\n",
       "         1.81519389e-19, -6.23257468e-19,  2.19631400e-18,\n",
       "        -8.92094006e-18,  3.63157027e-17, -1.37769565e-16,\n",
       "         4.66500978e-16, -1.58533274e-15,  7.14304908e-15,\n",
       "         2.96549859e-14,  8.90000000e+01,  2.19000000e+02,\n",
       "         2.54000000e+02,  9.70000000e+01,  6.70000000e+01,\n",
       "         1.40000000e+01,  1.75604460e-14,  1.91880957e-14,\n",
       "         9.20000000e+01,  2.31000000e+02,  1.22000000e+02,\n",
       "         2.30000000e+01,  2.03000000e+02,  2.36000000e+02,\n",
       "         5.90000000e+01,  2.16447253e-15,  2.24288101e-15,\n",
       "        -5.30794794e-20,  2.53782555e-19, -1.04167184e-18,\n",
       "         3.07264811e-18, -1.17910217e-17,  5.02365680e-17,\n",
       "        -1.84779452e-16,  5.90577261e-16, -2.32568819e-15,\n",
       "         2.27027082e-14,  2.50000000e+01,  2.17000000e+02,\n",
       "         2.42000000e+02,  9.20000000e+01,  4.00000000e+00,\n",
       "        -1.09873852e-15, -3.55077854e-15, -1.35936072e-15,\n",
       "         2.35608562e-14,  4.00000000e+00,  1.47000000e+02,\n",
       "         2.53000000e+02,  2.40000000e+02,  2.32000000e+02,\n",
       "         9.20000000e+01,  1.33531859e-15,  6.71396634e-16,\n",
       "        -1.43308686e-15,  1.68280283e-19, -5.18556909e-19,\n",
       "         2.11601152e-18, -7.78285886e-18,  2.76059611e-17,\n",
       "        -1.03378386e-16,  3.85010912e-16, -1.48784924e-15,\n",
       "         6.00571047e-15,  2.77320015e-14,  1.01000000e+02,\n",
       "         2.55000000e+02,  9.20000000e+01,  1.15115273e-15,\n",
       "        -2.13611267e-15,  1.02920045e-15,  1.54593437e-14,\n",
       "         3.55415030e-14,  4.16367397e-14,  1.05000000e+02,\n",
       "         2.54000000e+02,  2.54000000e+02,  1.77000000e+02,\n",
       "         1.10000000e+01, -3.60952157e-16, -7.06058630e-18,\n",
       "         7.41821536e-17, -2.37953494e-16,  4.62054433e-19,\n",
       "        -1.43740733e-18,  5.63994061e-18, -1.99839428e-17,\n",
       "         6.97421816e-17, -3.01536850e-16,  9.97271905e-16,\n",
       "        -4.03676690e-15,  1.49214965e-14,  2.67487753e-14,\n",
       "         1.67000000e+02,  2.44000000e+02,  4.10000000e+01,\n",
       "        -4.85310077e-15,  4.56187403e-15,  3.06640635e-14,\n",
       "         7.00000000e+00,  7.60000000e+01,  1.99000000e+02,\n",
       "         2.38000000e+02,  2.39000000e+02,  9.40000000e+01,\n",
       "         1.00000000e+01,  1.52425828e-15,  1.01288737e-16,\n",
       "         2.76839831e-18, -1.38217319e-18, -1.83023721e-18,\n",
       "         5.97077007e-19, -1.97764126e-18,  8.99400140e-18,\n",
       "        -3.29683723e-17,  1.13013248e-16, -4.51535279e-16,\n",
       "         1.48294266e-15, -6.34977740e-15,  2.23777601e-14,\n",
       "         1.20997083e-14,  1.92000000e+02,  1.21000000e+02,\n",
       "         1.46281843e-15,  1.68641362e-14,  2.00000000e+00,\n",
       "         6.30000000e+01,  1.80000000e+02,  2.54000000e+02,\n",
       "         2.33000000e+02,  1.26000000e+02,  1.74814419e-14,\n",
       "         1.35198382e-15,  7.48902217e-16,  1.17218755e-15,\n",
       "         9.00082070e-17, -6.29676845e-18, -3.89060223e-19,\n",
       "         3.19130195e-18,  5.38324218e-19, -1.79426597e-18,\n",
       "         8.04312028e-18, -2.53874970e-17,  1.03020742e-16,\n",
       "        -3.89114157e-16,  1.39030754e-15, -5.76047031e-15,\n",
       "         1.79304707e-14,  1.79644140e-14,  1.90000000e+02,\n",
       "         1.96000000e+02,  1.40000000e+01,  2.00000000e+00,\n",
       "         9.70000000e+01,  2.54000000e+02,  2.52000000e+02,\n",
       "         1.46000000e+02,  5.20000000e+01, -6.26477499e-16,\n",
       "         1.78418238e-15,  2.63512872e-16, -2.43698605e-16,\n",
       "         1.07508176e-16, -4.81584936e-17,  3.44632687e-19,\n",
       "         2.08308260e-19, -2.78457381e-19,  2.99671570e-19,\n",
       "        -9.19458299e-19,  3.89315766e-18, -1.38942308e-17,\n",
       "         5.60205743e-17, -2.01456089e-16,  5.32490774e-16,\n",
       "        -1.76906939e-15,  8.70023980e-15,  2.77771218e-14,\n",
       "         1.30000000e+02,  2.25000000e+02,  7.10000000e+01,\n",
       "         1.80000000e+02,  2.32000000e+02,  1.81000000e+02,\n",
       "         6.00000000e+01,  9.17245600e-15,  7.85883888e-16,\n",
       "         5.06849988e-16, -5.70978281e-16, -1.06146661e-16,\n",
       "        -3.24865270e-17, -7.43866147e-18,  2.73062666e-18,\n",
       "         9.59784374e-19,  7.34775336e-20, -3.20723617e-20,\n",
       "         2.98894521e-19, -4.90635550e-19,  5.13309463e-18,\n",
       "        -1.57049343e-17,  6.37581746e-17, -1.84233453e-16,\n",
       "         9.02559323e-16, -6.17029292e-15,  1.67367240e-14,\n",
       "         5.06828857e-14,  1.30000000e+02,  2.54000000e+02,\n",
       "         2.54000000e+02,  2.30000000e+02,  4.60000000e+01,\n",
       "         7.64439172e-15, -3.94893417e-16,  2.65045028e-15,\n",
       "        -3.05083408e-17,  3.54515853e-17, -7.12847129e-16,\n",
       "        -6.96427965e-17, -1.84032357e-17, -2.54948665e-17,\n",
       "         5.08258228e-18,  9.05992941e-21,  2.12139170e-20,\n",
       "         7.48996995e-21,  4.11470753e-20,  1.27211943e-18,\n",
       "         3.32715214e-18,  2.18484650e-17,  2.37707373e-17,\n",
       "         2.48102154e-16, -8.14344879e-16,  1.52564082e-14,\n",
       "         6.00000000e+00,  7.70000000e+01,  2.44000000e+02,\n",
       "         2.54000000e+02,  1.62000000e+02,  4.00000000e+00,\n",
       "         2.03599859e-15,  4.05539247e-16,  3.66691528e-16,\n",
       "         4.92892137e-16, -7.54148949e-17, -5.72132571e-17,\n",
       "        -3.55614501e-17, -2.34933786e-18, -6.92565465e-19,\n",
       "        -9.98205284e-19,  9.47914122e-19, -3.07434973e-20,\n",
       "        -6.86093708e-21, -6.16850149e-22,  2.39635003e-18,\n",
       "        -9.14854630e-18,  4.80756230e-17, -7.03969198e-17,\n",
       "         6.77601266e-16, -1.36927082e-15,  1.21518832e-14,\n",
       "         4.26308466e-14,  1.10000000e+02,  2.54000000e+02,\n",
       "         2.18000000e+02,  2.54000000e+02,  1.16000000e+02,\n",
       "         2.55886726e-16, -6.27280255e-16,  7.70897026e-16,\n",
       "         1.43862787e-16,  1.44829761e-17, -3.62336694e-17,\n",
       "         3.41797000e-17,  2.12493474e-17,  1.65084793e-18,\n",
       "         1.19824382e-18,  6.45053385e-19,  2.83971557e-19,\n",
       "        -6.14497235e-21, -2.81214005e-21, -3.88079648e-22,\n",
       "        -1.54239330e-17,  5.64215322e-17, -1.78386652e-16,\n",
       "         7.66846335e-16, -2.80746669e-15,  1.09686085e-14,\n",
       "         4.34247648e-14,  1.31000000e+02,  2.54000000e+02,\n",
       "         1.54000000e+02,  2.80000000e+01,  2.13000000e+02,\n",
       "         8.60000000e+01, -1.59259704e-15, -1.15864196e-16,\n",
       "         3.00650256e-16,  4.83501669e-18, -1.65117621e-17,\n",
       "        -3.37243696e-18,  3.73130002e-18,  9.78136504e-18,\n",
       "         3.65212260e-19,  4.04623647e-20, -2.91281879e-20,\n",
       "         1.16756077e-19,  2.73228439e-21, -3.08934042e-22,\n",
       "        -2.22367497e-22,  1.47078370e-17, -5.80985556e-17,\n",
       "         1.89930810e-16, -7.60605283e-16,  3.06065714e-15,\n",
       "         2.36663592e-14,  6.60000000e+01,  2.09000000e+02,\n",
       "         1.53000000e+02,  1.90000000e+01,  1.90000000e+01,\n",
       "         2.33000000e+02,  6.00000000e+01, -7.38603387e-16,\n",
       "         2.43516118e-16,  1.65597091e-16, -2.96776707e-17,\n",
       "        -2.51844395e-17, -2.75545180e-18, -2.47106123e-19,\n",
       "         3.38958258e-18,  2.56173053e-19,  1.37761997e-20,\n",
       "        -1.12642620e-19,  5.85673962e-22,  6.42830577e-22,\n",
       "        -1.95287924e-22, -1.86686272e-22,  6.28595763e-17,\n",
       "        -2.60738366e-16,  8.13560436e-16, -3.25371190e-15,\n",
       "         1.29610960e-14,  3.14666364e-14,  1.42000000e+02,\n",
       "         2.54000000e+02,  1.65000000e+02,  4.21033847e-14,\n",
       "         1.40000000e+01,  2.16000000e+02,  1.67000000e+02,\n",
       "         9.04163907e-15,  2.41944384e-15,  2.76924916e-16,\n",
       "        -9.38586843e-17, -2.32739483e-17,  2.49430345e-19,\n",
       "         1.97494897e-18,  5.90639146e-19, -3.26473845e-20,\n",
       "         1.20756610e-20,  1.15740815e-20,  1.40321408e-20,\n",
       "         9.32342831e-22,  2.78951766e-22, -5.37925456e-22,\n",
       "         2.31748927e-17, -9.92125079e-17,  3.25102881e-16,\n",
       "        -1.37293664e-15,  5.00011023e-15,  2.75070355e-14,\n",
       "         9.00000000e+01,  2.54000000e+02,  1.75000000e+02,\n",
       "         5.95902776e-14,  1.80000000e+01,  2.29000000e+02,\n",
       "         9.20000000e+01,  2.89554564e-15,  6.15306659e-16,\n",
       "         1.10606739e-16, -2.31465674e-17, -8.33174422e-18,\n",
       "        -1.07210958e-18,  2.96359345e-19, -5.36721765e-20,\n",
       "         2.82967490e-20, -5.47915028e-21, -3.61428238e-21,\n",
       "         3.66974599e-21,  3.29593537e-22,  6.36241145e-23,\n",
       "        -1.50719687e-22, -2.23278020e-17,  5.61985083e-17,\n",
       "        -2.34667036e-16,  6.41776753e-16, -2.97602238e-15,\n",
       "         2.29215585e-14,  2.60000000e+01,  2.29000000e+02,\n",
       "         2.49000000e+02,  1.76000000e+02,  2.22000000e+02,\n",
       "         2.44000000e+02,  4.40000000e+01,  3.53417258e-16,\n",
       "        -7.43832999e-17, -1.17557344e-17, -7.27857869e-19,\n",
       "        -1.94214491e-18, -8.56431220e-19, -2.55473231e-19,\n",
       "        -1.00283425e-19,  1.99890051e-20, -1.96088603e-21,\n",
       "        -9.13306063e-22,  4.11898266e-22,  2.71008500e-23,\n",
       "        -3.25287966e-23,  2.28609209e-23, -8.25843727e-18,\n",
       "         2.48349925e-17, -9.36294076e-17,  3.04796668e-16,\n",
       "        -1.27496032e-15,  4.43571116e-15,  1.90676438e-14,\n",
       "         7.30000000e+01,  1.93000000e+02,  1.97000000e+02,\n",
       "         1.34000000e+02,  2.31519176e-14,  4.57192880e-15,\n",
       "         9.63033361e-16,  1.59561877e-17,  8.80232120e-18,\n",
       "        -1.23020508e-18, -2.15624326e-18,  3.08770072e-19,\n",
       "         1.15540653e-19, -2.06468727e-20,  6.97730372e-21,\n",
       "        -3.08695234e-22, -1.42389092e-21,  1.06780809e-22,\n",
       "         7.22252100e-23,  8.20000525e-25, -3.15111305e-23,\n",
       "         1.01121660e-19,  1.52953824e-19, -4.08005093e-19,\n",
       "        -3.88164933e-20, -1.41460346e-19, -2.67709426e-17,\n",
       "         2.51857046e-16, -1.96027776e-15, -2.12350124e-15,\n",
       "         7.74106714e-15, -3.83267068e-15, -1.77245376e-15,\n",
       "         8.21109542e-16,  2.56158077e-16,  1.22932726e-17,\n",
       "        -1.11898568e-18, -7.07457056e-19, -1.42348045e-18,\n",
       "         5.75729018e-20, -1.70740902e-21,  1.15585018e-20,\n",
       "         5.05457411e-21,  8.13386805e-22, -3.32829969e-22,\n",
       "        -2.60359654e-25, -7.87691175e-24, -3.21804450e-24,\n",
       "         3.03012642e-25,  2.90602673e-20,  4.83825114e-21,\n",
       "        -2.56783377e-19, -3.05852405e-19, -3.62950696e-19,\n",
       "         6.44657741e-18,  1.34456559e-16,  3.07424935e-16,\n",
       "        -1.02464921e-15, -8.47198386e-16,  3.25626002e-16,\n",
       "        -1.32389194e-15,  7.65234850e-17,  7.31858199e-17,\n",
       "         5.99438428e-18,  1.18850419e-19, -6.22364831e-19,\n",
       "        -3.98241797e-19, -4.90531186e-20, -1.97725578e-20,\n",
       "        -4.67313859e-22,  1.32558736e-21, -1.12585570e-22,\n",
       "        -3.40422332e-23, -9.78641900e-24, -9.49149485e-24,\n",
       "        -1.28610989e-24, -7.71891781e-25, -1.40748213e-20,\n",
       "        -9.67650227e-21, -2.85343326e-20, -3.88164933e-20,\n",
       "        -1.41460346e-19,  9.84632992e-19,  1.12372924e-16,\n",
       "        -8.23734219e-16, -5.32422137e-15, -3.46409518e-15,\n",
       "        -2.57685924e-15,  2.18304022e-15,  3.16086450e-16,\n",
       "        -7.28738164e-19,  1.58383253e-19,  6.43584000e-19,\n",
       "         1.61150296e-19, -7.35285564e-20,  3.11430125e-21,\n",
       "        -5.17522739e-22, -1.11303782e-21, -7.23973242e-24,\n",
       "         1.13411506e-22, -8.68664702e-23, -1.68422460e-23,\n",
       "         1.17513807e-24,  9.06779478e-26, -7.18008749e-27,\n",
       "         0.00000000e+00,  0.00000000e+00,  0.00000000e+00,\n",
       "         0.00000000e+00,  0.00000000e+00,  0.00000000e+00,\n",
       "         0.00000000e+00,  0.00000000e+00,  0.00000000e+00,\n",
       "         0.00000000e+00,  0.00000000e+00,  0.00000000e+00,\n",
       "         0.00000000e+00,  0.00000000e+00,  0.00000000e+00,\n",
       "         0.00000000e+00,  0.00000000e+00,  0.00000000e+00,\n",
       "         0.00000000e+00,  0.00000000e+00,  0.00000000e+00,\n",
       "         0.00000000e+00,  0.00000000e+00,  0.00000000e+00,\n",
       "         0.00000000e+00,  0.00000000e+00,  0.00000000e+00,\n",
       "         0.00000000e+00]])], dtype=object)"
      ]
     },
     "execution_count": 98,
     "metadata": {},
     "output_type": "execute_result"
    }
   ],
   "source": [
    "X_train_augmented"
   ]
  },
  {
   "cell_type": "code",
   "execution_count": 107,
   "metadata": {},
   "outputs": [
    {
     "data": {
      "text/plain": [
       "KNeighborsClassifier(algorithm='auto', leaf_size=30, metric='minkowski',\n",
       "           metric_params=None, n_jobs=None, n_neighbors=4, p=2,\n",
       "           weights='uniform')"
      ]
     },
     "execution_count": 107,
     "metadata": {},
     "output_type": "execute_result"
    }
   ],
   "source": [
    "new_knn_clf=KNeighborsClassifier(n_neighbors=4)\n",
    "new_knn_clf.fit(X_train_augmented,y_train_augmented)"
   ]
  },
  {
   "cell_type": "code",
   "execution_count": null,
   "metadata": {},
   "outputs": [],
   "source": [
    "scores=cross_val_score(new_knn_clf,X_train_augmented,y_train_augmented,scoring='accuracy',cv=3)\n",
    "scores"
   ]
  }
 ],
 "metadata": {
  "kernelspec": {
   "display_name": "Python 3",
   "language": "python",
   "name": "python3"
  },
  "language_info": {
   "codemirror_mode": {
    "name": "ipython",
    "version": 3
   },
   "file_extension": ".py",
   "mimetype": "text/x-python",
   "name": "python",
   "nbconvert_exporter": "python",
   "pygments_lexer": "ipython3",
   "version": "3.7.3"
  }
 },
 "nbformat": 4,
 "nbformat_minor": 2
}
