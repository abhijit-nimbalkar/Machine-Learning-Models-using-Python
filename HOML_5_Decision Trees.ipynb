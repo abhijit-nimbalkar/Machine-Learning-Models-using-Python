{
 "cells": [
  {
   "cell_type": "code",
   "execution_count": 2,
   "metadata": {},
   "outputs": [],
   "source": [
    "import pandas as pd\n",
    "import numpy as np\n",
    "from sklearn import datasets\n",
    "from sklearn.tree import DecisionTreeClassifier\n",
    "from sklearn.model_selection import train_test_split, cross_val_score, cross_val_predict \n",
    "from sklearn.metrics import precision_recall_curve, precision_recall_fscore_support, accuracy_score"
   ]
  },
  {
   "cell_type": "code",
   "execution_count": 27,
   "metadata": {},
   "outputs": [],
   "source": [
    "np.random.seed(42)\n",
    "iris=datasets.load_iris()\n",
    "X=iris['data'][:,(2,3)]\n",
    "y=iris['target']"
   ]
  },
  {
   "cell_type": "code",
   "execution_count": 28,
   "metadata": {},
   "outputs": [],
   "source": [
    "np.random.seed(42)\n",
    "X_train, X_test,y_train, y_test= train_test_split(X, y, test_size=0.2)"
   ]
  },
  {
   "cell_type": "code",
   "execution_count": 29,
   "metadata": {},
   "outputs": [
    {
     "name": "stdout",
     "output_type": "stream",
     "text": [
      "Mean=0.9414425682718365,Standard Deviation=0.03129331318093283\n"
     ]
    }
   ],
   "source": [
    "tree=DecisionTreeClassifier()\n",
    "tree.fit(X_train,y_train)\n",
    "scores=cross_val_score(tree,X_train, y_train,scoring='accuracy',cv=3)\n",
    "print(f\"Mean={scores.mean()},Standard Deviation={scores.std()}\")"
   ]
  },
  {
   "cell_type": "code",
   "execution_count": 30,
   "metadata": {},
   "outputs": [
    {
     "data": {
      "text/plain": [
       "(0.9166666666666666, 0.9166666666666666, 0.9166666666666666, None)"
      ]
     },
     "execution_count": 30,
     "metadata": {},
     "output_type": "execute_result"
    }
   ],
   "source": [
    "train_target=cross_val_predict(tree, X_train, y_train, cv=3)\n",
    "precision_recall_fscore_support(y_train,train_target, average='micro')"
   ]
  },
  {
   "cell_type": "code",
   "execution_count": 31,
   "metadata": {},
   "outputs": [
    {
     "data": {
      "text/plain": [
       "100.0"
      ]
     },
     "execution_count": 31,
     "metadata": {},
     "output_type": "execute_result"
    }
   ],
   "source": [
    "predicted=tree.predict(X_test)\n",
    "precision_recall_fscore_support(y_test,predicted, average='micro')\n",
    "accuracy_score(y_test,predicted)*100"
   ]
  },
  {
   "cell_type": "code",
   "execution_count": 32,
   "metadata": {},
   "outputs": [
    {
     "data": {
      "text/plain": [
       "(array([4.26 , 1.326]),\n",
       " array([0.46518813, 0.19576517]),\n",
       " ['sepal length (cm)',\n",
       "  'sepal width (cm)',\n",
       "  'petal length (cm)',\n",
       "  'petal width (cm)'],\n",
       " array(['setosa', 'versicolor', 'virginica'], dtype='<U10'))"
      ]
     },
     "execution_count": 32,
     "metadata": {},
     "output_type": "execute_result"
    }
   ],
   "source": [
    "X[y==1].mean(axis=0),X[y==1].std(axis=0),iris.feature_names, iris.target_names"
   ]
  },
  {
   "cell_type": "code",
   "execution_count": 33,
   "metadata": {},
   "outputs": [
    {
     "data": {
      "image/png": "[encoded data removed]",
      "text/plain": [
       "<Figure size 864x360 with 1 Axes>"
      ]
     },
     "metadata": {
      "needs_background": "light"
     },
     "output_type": "display_data"
    }
   ],
   "source": [
    "from matplotlib.colors import ListedColormap\n",
    "import matplotlib.pyplot as plt\n",
    "np.random.seed(42)\n",
    "X=iris['data'][:,(2,3)]\n",
    "plt.figure(figsize=(12,5))\n",
    "X1_=np.linspace(0,8,100)\n",
    "X2_=np.linspace(0,3,100)\n",
    "X1,X2=np.meshgrid(X1_,X2_)\n",
    "X_=np.c_[X1.ravel(),X2.ravel()]\n",
    "mesh_predict=tree.predict(X_).reshape(X1.shape)\n",
    "custom_cmap = ListedColormap(['#fafab0','#9898ff','#a0faa0'])\n",
    "plt.contourf(X1,X2,mesh_predict,cmap=custom_cmap,alpha=0.3)\n",
    "plt.plot(X[:,0][y==0],X[:,1][y==0],\"bs\", label=\"Setosa\")\n",
    "plt.plot(X[:,0][y==1],X[:,1][y==1],\"r.\", label=\"versicolor\")\n",
    "plt.plot(X[:,0][y==2],X[:,1][y==2],\"g^\", label=\"verginica\")\n",
    "plt.axis([0,8,0,3])\n",
    "plt.xlabel(\"Petal Length\", fontsize=15)\n",
    "plt.ylabel(\"Petal Width\", fontsize=15)\n",
    "plt.legend(fontsize=12)\n",
    "plt.show()"
   ]
  },
  {
   "cell_type": "code",
   "execution_count": 61,
   "metadata": {},
   "outputs": [],
   "source": [
    "data=datasets.make_moons(n_samples=100,random_state=42,noise=0.15)\n",
    "X=data[0]\n",
    "y=np.random.randint(2,size=(100,))"
   ]
  },
  {
   "cell_type": "code",
   "execution_count": 76,
   "metadata": {},
   "outputs": [
    {
     "data": {
      "text/plain": [
       "DecisionTreeClassifier(class_weight=None, criterion='gini', max_depth=None,\n",
       "            max_features=None, max_leaf_nodes=None,\n",
       "            min_impurity_decrease=0.0, min_impurity_split=None,\n",
       "            min_samples_leaf=1, min_samples_split=2,\n",
       "            min_weight_fraction_leaf=0.0, presort=False, random_state=None,\n",
       "            splitter='best')"
      ]
     },
     "execution_count": 76,
     "metadata": {},
     "output_type": "execute_result"
    }
   ],
   "source": [
    "tree=DecisionTreeClassifier()\n",
    "tree.fit(X,y)"
   ]
  },
  {
   "cell_type": "code",
   "execution_count": 75,
   "metadata": {},
   "outputs": [
    {
     "data": {
      "image/png": "[encoded data removed]",
      "text/plain": [
       "<Figure size 864x360 with 1 Axes>"
      ]
     },
     "metadata": {
      "needs_background": "light"
     },
     "output_type": "display_data"
    }
   ],
   "source": [
    "plt.figure(figsize=(12,5))\n",
    "x1=np.linspace(0,5,100)\n",
    "x2=np.linspace(0,2,100)\n",
    "x1_,x2_=np.meshgrid(x1,x2)\n",
    "X_new=np.c_[x1_.ravel(),x2_.ravel()]\n",
    "mesh_predict=tree.predict(X_new).reshape(100,100)\n",
    "plt.contourf(x1_,x2_,mesh_predict,alpha=0.3)\n",
    "plt.plot(X[:,0][y==0],X[:,1][y==0], \"bs\")\n",
    "plt.plot(X[:,0][y==1],X[:,1][y==1], \"r^\")\n",
    "plt.axis([0,5,0,2])\n",
    "plt.xlabel(r\"$X_1$\",fontsize=18)\n",
    "plt.ylabel(r\"$X_2$\",rotation=0,fontsize=18)\n",
    "plt.tight_layout()\n",
    "plt.show()"
   ]
  },
  {
   "cell_type": "code",
   "execution_count": null,
   "metadata": {},
   "outputs": [],
   "source": []
  }
 ],
 "metadata": {
  "kernelspec": {
   "display_name": "Python 3",
   "language": "python",
   "name": "python3"
  },
  "language_info": {
   "codemirror_mode": {
    "name": "ipython",
    "version": 3
   },
   "file_extension": ".py",
   "mimetype": "text/x-python",
   "name": "python",
   "nbconvert_exporter": "python",
   "pygments_lexer": "ipython3",
   "version": "3.7.3"
  }
 },
 "nbformat": 4,
 "nbformat_minor": 2
}
