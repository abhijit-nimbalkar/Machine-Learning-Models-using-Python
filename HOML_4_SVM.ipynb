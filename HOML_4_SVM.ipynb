{
 "cells": [
  {
   "cell_type": "code",
   "execution_count": 1,
   "metadata": {},
   "outputs": [],
   "source": [
    "import pandas as pd\n",
    "import numpy as np\n",
    "import matplotlib.pyplot as plt\n",
    "from sklearn.preprocessing import StandardScaler\n",
    "from sklearn import datasets\n",
    "from sklearn.svm import LinearSVC\n",
    "from sklearn.pipeline import Pipeline"
   ]
  },
  {
   "cell_type": "code",
   "execution_count": 2,
   "metadata": {},
   "outputs": [
    {
     "data": {
      "text/plain": [
       "array([[1.4, 0.2, 0. ],\n",
       "       [1.4, 0.2, 0. ],\n",
       "       [1.3, 0.2, 0. ],\n",
       "       [1.5, 0.2, 0. ],\n",
       "       [1.4, 0.2, 0. ],\n",
       "       [1.7, 0.4, 0. ],\n",
       "       [1.4, 0.3, 0. ],\n",
       "       [1.5, 0.2, 0. ],\n",
       "       [1.4, 0.2, 0. ],\n",
       "       [1.5, 0.1, 0. ],\n",
       "       [1.5, 0.2, 0. ],\n",
       "       [1.6, 0.2, 0. ],\n",
       "       [1.4, 0.1, 0. ],\n",
       "       [1.1, 0.1, 0. ],\n",
       "       [1.2, 0.2, 0. ],\n",
       "       [1.5, 0.4, 0. ],\n",
       "       [1.3, 0.4, 0. ],\n",
       "       [1.4, 0.3, 0. ],\n",
       "       [1.7, 0.3, 0. ],\n",
       "       [1.5, 0.3, 0. ],\n",
       "       [1.7, 0.2, 0. ],\n",
       "       [1.5, 0.4, 0. ],\n",
       "       [1. , 0.2, 0. ],\n",
       "       [1.7, 0.5, 0. ],\n",
       "       [1.9, 0.2, 0. ],\n",
       "       [1.6, 0.2, 0. ],\n",
       "       [1.6, 0.4, 0. ],\n",
       "       [1.5, 0.2, 0. ],\n",
       "       [1.4, 0.2, 0. ],\n",
       "       [1.6, 0.2, 0. ],\n",
       "       [1.6, 0.2, 0. ],\n",
       "       [1.5, 0.4, 0. ],\n",
       "       [1.5, 0.1, 0. ],\n",
       "       [1.4, 0.2, 0. ],\n",
       "       [1.5, 0.2, 0. ],\n",
       "       [1.2, 0.2, 0. ],\n",
       "       [1.3, 0.2, 0. ],\n",
       "       [1.4, 0.1, 0. ],\n",
       "       [1.3, 0.2, 0. ],\n",
       "       [1.5, 0.2, 0. ],\n",
       "       [1.3, 0.3, 0. ],\n",
       "       [1.3, 0.3, 0. ],\n",
       "       [1.3, 0.2, 0. ],\n",
       "       [1.6, 0.6, 0. ],\n",
       "       [1.9, 0.4, 0. ],\n",
       "       [1.4, 0.3, 0. ],\n",
       "       [1.6, 0.2, 0. ],\n",
       "       [1.4, 0.2, 0. ],\n",
       "       [1.5, 0.2, 0. ],\n",
       "       [1.4, 0.2, 0. ],\n",
       "       [4.7, 1.4, 0. ],\n",
       "       [4.5, 1.5, 0. ],\n",
       "       [4.9, 1.5, 0. ],\n",
       "       [4. , 1.3, 0. ],\n",
       "       [4.6, 1.5, 0. ],\n",
       "       [4.5, 1.3, 0. ],\n",
       "       [4.7, 1.6, 0. ],\n",
       "       [3.3, 1. , 0. ],\n",
       "       [4.6, 1.3, 0. ],\n",
       "       [3.9, 1.4, 0. ],\n",
       "       [3.5, 1. , 0. ],\n",
       "       [4.2, 1.5, 0. ],\n",
       "       [4. , 1. , 0. ],\n",
       "       [4.7, 1.4, 0. ],\n",
       "       [3.6, 1.3, 0. ],\n",
       "       [4.4, 1.4, 0. ],\n",
       "       [4.5, 1.5, 0. ],\n",
       "       [4.1, 1. , 0. ],\n",
       "       [4.5, 1.5, 0. ],\n",
       "       [3.9, 1.1, 0. ],\n",
       "       [4.8, 1.8, 0. ],\n",
       "       [4. , 1.3, 0. ],\n",
       "       [4.9, 1.5, 0. ],\n",
       "       [4.7, 1.2, 0. ],\n",
       "       [4.3, 1.3, 0. ],\n",
       "       [4.4, 1.4, 0. ],\n",
       "       [4.8, 1.4, 0. ],\n",
       "       [5. , 1.7, 0. ],\n",
       "       [4.5, 1.5, 0. ],\n",
       "       [3.5, 1. , 0. ],\n",
       "       [3.8, 1.1, 0. ],\n",
       "       [3.7, 1. , 0. ],\n",
       "       [3.9, 1.2, 0. ],\n",
       "       [5.1, 1.6, 0. ],\n",
       "       [4.5, 1.5, 0. ],\n",
       "       [4.5, 1.6, 0. ],\n",
       "       [4.7, 1.5, 0. ],\n",
       "       [4.4, 1.3, 0. ],\n",
       "       [4.1, 1.3, 0. ],\n",
       "       [4. , 1.3, 0. ],\n",
       "       [4.4, 1.2, 0. ],\n",
       "       [4.6, 1.4, 0. ],\n",
       "       [4. , 1.2, 0. ],\n",
       "       [3.3, 1. , 0. ],\n",
       "       [4.2, 1.3, 0. ],\n",
       "       [4.2, 1.2, 0. ],\n",
       "       [4.2, 1.3, 0. ],\n",
       "       [4.3, 1.3, 0. ],\n",
       "       [3. , 1.1, 0. ],\n",
       "       [4.1, 1.3, 0. ],\n",
       "       [6. , 2.5, 1. ],\n",
       "       [5.1, 1.9, 1. ],\n",
       "       [5.9, 2.1, 1. ],\n",
       "       [5.6, 1.8, 1. ],\n",
       "       [5.8, 2.2, 1. ],\n",
       "       [6.6, 2.1, 1. ],\n",
       "       [4.5, 1.7, 1. ],\n",
       "       [6.3, 1.8, 1. ],\n",
       "       [5.8, 1.8, 1. ],\n",
       "       [6.1, 2.5, 1. ],\n",
       "       [5.1, 2. , 1. ],\n",
       "       [5.3, 1.9, 1. ],\n",
       "       [5.5, 2.1, 1. ],\n",
       "       [5. , 2. , 1. ],\n",
       "       [5.1, 2.4, 1. ],\n",
       "       [5.3, 2.3, 1. ],\n",
       "       [5.5, 1.8, 1. ],\n",
       "       [6.7, 2.2, 1. ],\n",
       "       [6.9, 2.3, 1. ],\n",
       "       [5. , 1.5, 1. ],\n",
       "       [5.7, 2.3, 1. ],\n",
       "       [4.9, 2. , 1. ],\n",
       "       [6.7, 2. , 1. ],\n",
       "       [4.9, 1.8, 1. ],\n",
       "       [5.7, 2.1, 1. ],\n",
       "       [6. , 1.8, 1. ],\n",
       "       [4.8, 1.8, 1. ],\n",
       "       [4.9, 1.8, 1. ],\n",
       "       [5.6, 2.1, 1. ],\n",
       "       [5.8, 1.6, 1. ],\n",
       "       [6.1, 1.9, 1. ],\n",
       "       [6.4, 2. , 1. ],\n",
       "       [5.6, 2.2, 1. ],\n",
       "       [5.1, 1.5, 1. ],\n",
       "       [5.6, 1.4, 1. ],\n",
       "       [6.1, 2.3, 1. ],\n",
       "       [5.6, 2.4, 1. ],\n",
       "       [5.5, 1.8, 1. ],\n",
       "       [4.8, 1.8, 1. ],\n",
       "       [5.4, 2.1, 1. ],\n",
       "       [5.6, 2.4, 1. ],\n",
       "       [5.1, 2.3, 1. ],\n",
       "       [5.1, 1.9, 1. ],\n",
       "       [5.9, 2.3, 1. ],\n",
       "       [5.7, 2.5, 1. ],\n",
       "       [5.2, 2.3, 1. ],\n",
       "       [5. , 1.9, 1. ],\n",
       "       [5.2, 2. , 1. ],\n",
       "       [5.4, 2.3, 1. ],\n",
       "       [5.1, 1.8, 1. ]])"
      ]
     },
     "execution_count": 2,
     "metadata": {},
     "output_type": "execute_result"
    }
   ],
   "source": [
    "iris=datasets.load_iris()\n",
    "X=iris['data'][:,(2,3)]\n",
    "y=(iris['target']==2).astype(np.int8)\n",
    "np.c_[X,y]"
   ]
  },
  {
   "cell_type": "code",
   "execution_count": 3,
   "metadata": {},
   "outputs": [
    {
     "data": {
      "text/plain": [
       "Pipeline(memory=None,\n",
       "     steps=[('std_scale', StandardScaler(copy=True, with_mean=True, with_std=True)), ('svm', LinearSVC(C=4, class_weight=None, dual=True, fit_intercept=True,\n",
       "     intercept_scaling=1, loss='hinge', max_iter=1000, multi_class='ovr',\n",
       "     penalty='l2', random_state=None, tol=0.0001, verbose=0))])"
      ]
     },
     "execution_count": 3,
     "metadata": {},
     "output_type": "execute_result"
    }
   ],
   "source": [
    "svm_pipeline=Pipeline([('std_scale',StandardScaler()),\n",
    "                        ('svm',LinearSVC(C=4,loss=\"hinge\"))])\n",
    "svm_pipeline.fit(X,y)"
   ]
  },
  {
   "cell_type": "code",
   "execution_count": 4,
   "metadata": {},
   "outputs": [
    {
     "data": {
      "text/plain": [
       "array([1], dtype=int8)"
      ]
     },
     "execution_count": 4,
     "metadata": {},
     "output_type": "execute_result"
    }
   ],
   "source": [
    "svm_pipeline.predict([[5.5,1.6]])"
   ]
  },
  {
   "cell_type": "code",
   "execution_count": 5,
   "metadata": {},
   "outputs": [
    {
     "data": {
      "image/png": "[encoded data removed]",
      "text/plain": [
       "<Figure size 432x288 with 1 Axes>"
      ]
     },
     "metadata": {
      "needs_background": "light"
     },
     "output_type": "display_data"
    }
   ],
   "source": [
    "X,y=datasets.make_moons(n_samples=100, noise=0.15,random_state=42)\n",
    "\n",
    "def plot_dataset(X,y,axes):\n",
    "    plt.plot(X[:,0][y==1],X[:,1][y==1],\"bs\")\n",
    "    plt.plot(X[:,0][y==0],X[:,1][y==0],\"g^\")\n",
    "    plt.axis(axes)\n",
    "    plt.xlabel(r\"$X_1$\",fontsize=14)\n",
    "    plt.ylabel(r\"$X_2$\",fontsize=14, rotation=0)\n",
    "    plt.grid(True, which='both')\n",
    "    plt.tight_layout()\n",
    "    plt.show()\n",
    "    \n",
    "plot_dataset(X,y,[-1.5,2.5,-1.0,1.5])"
   ]
  },
  {
   "cell_type": "code",
   "execution_count": 6,
   "metadata": {},
   "outputs": [
    {
     "name": "stderr",
     "output_type": "stream",
     "text": [
      "C:\\ProgramData\\Anaconda3\\lib\\site-packages\\sklearn\\svm\\base.py:931: ConvergenceWarning: Liblinear failed to converge, increase the number of iterations.\n",
      "  \"the number of iterations.\", ConvergenceWarning)\n"
     ]
    },
    {
     "data": {
      "text/plain": [
       "Pipeline(memory=None,\n",
       "     steps=[('poly_moons', PolynomialFeatures(degree=3, include_bias=True, interaction_only=False)), ('std_scaler', StandardScaler(copy=True, with_mean=True, with_std=True)), ('linear_svm', LinearSVC(C=10, class_weight=None, dual=True, fit_intercept=True,\n",
       "     intercept_scaling=1, loss='hinge', max_iter=1000, multi_class='ovr',\n",
       "     penalty='l2', random_state=42, tol=0.0001, verbose=0))])"
      ]
     },
     "execution_count": 6,
     "metadata": {},
     "output_type": "execute_result"
    }
   ],
   "source": [
    "from sklearn.preprocessing import PolynomialFeatures\n",
    "svm_pipeline=Pipeline([('poly_moons',PolynomialFeatures(degree=3)),\n",
    "                       ('std_scaler',StandardScaler()),\n",
    "                       ('linear_svm',LinearSVC(C=10,loss='hinge',random_state=42))])\n",
    "svm_pipeline.fit(X,y)"
   ]
  },
  {
   "cell_type": "code",
   "execution_count": 7,
   "metadata": {},
   "outputs": [
    {
     "data": {
      "image/png": "[encoded data removed]",
      "text/plain": [
       "<Figure size 432x288 with 1 Axes>"
      ]
     },
     "metadata": {
      "needs_background": "light"
     },
     "output_type": "display_data"
    }
   ],
   "source": [
    "x0s=np.linspace(-1.5,2.5,10)\n",
    "x1s=np.linspace(1.0,1.5,10)\n",
    "x0,x1=np.meshgrid(x0s,x1s)\n",
    "X_new=np.c_[x0.ravel(),x1.ravel()]\n",
    "y_predict=svm_pipeline.predict(X_new).reshape(x0.shape)\n",
    "y_decision=svm_pipeline.decision_function(X_new).reshape(x0.shape)\n",
    "plt.contourf(x0,x1,y_predict,cmap=plt.cm.brg, alpha=0.2)\n",
    "plt.contourf(x0,x1,y_decision,cmap=plt.cm.brg, alpha=0.1)\n",
    "plot_dataset(X,y,[-1.5,2.5,-1.0,1.5])"
   ]
  },
  {
   "cell_type": "code",
   "execution_count": 8,
   "metadata": {},
   "outputs": [
    {
     "data": {
      "image/png": "[encoded data removed]",
      "text/plain": [
       "<Figure size 432x288 with 1 Axes>"
      ]
     },
     "metadata": {
      "needs_background": "light"
     },
     "output_type": "display_data"
    }
   ],
   "source": [
    "from sklearn.datasets import make_moons\n",
    "X, y = make_moons(n_samples=100, noise=0.15, random_state=42)\n",
    "\n",
    "def plot_dataset(X, y, axes):\n",
    "    plt.plot(X[:, 0][y==0], X[:, 1][y==0], \"bs\")\n",
    "    plt.plot(X[:, 0][y==1], X[:, 1][y==1], \"g^\")\n",
    "    plt.axis(axes)\n",
    "    plt.grid(True, which='both')\n",
    "    plt.xlabel(r\"$x_1$\", fontsize=20)\n",
    "    plt.ylabel(r\"$x_2$\", fontsize=20, rotation=0)\n",
    "\n",
    "plot_dataset(X, y, [-1.5, 2.5, -1, 1.5])\n",
    "plt.show()"
   ]
  },
  {
   "cell_type": "code",
   "execution_count": 9,
   "metadata": {},
   "outputs": [
    {
     "name": "stderr",
     "output_type": "stream",
     "text": [
      "C:\\ProgramData\\Anaconda3\\lib\\site-packages\\sklearn\\svm\\base.py:931: ConvergenceWarning: Liblinear failed to converge, increase the number of iterations.\n",
      "  \"the number of iterations.\", ConvergenceWarning)\n"
     ]
    },
    {
     "data": {
      "text/plain": [
       "Pipeline(memory=None,\n",
       "     steps=[('poly_features', PolynomialFeatures(degree=3, include_bias=True, interaction_only=False)), ('scaler', StandardScaler(copy=True, with_mean=True, with_std=True)), ('svm_clf', LinearSVC(C=10, class_weight=None, dual=True, fit_intercept=True,\n",
       "     intercept_scaling=1, loss='hinge', max_iter=1000, multi_class='ovr',\n",
       "     penalty='l2', random_state=42, tol=0.0001, verbose=0))])"
      ]
     },
     "execution_count": 9,
     "metadata": {},
     "output_type": "execute_result"
    }
   ],
   "source": [
    "\n",
    "from sklearn.datasets import make_moons\n",
    "from sklearn.pipeline import Pipeline\n",
    "from sklearn.preprocessing import PolynomialFeatures\n",
    "\n",
    "polynomial_svm_clf = Pipeline([\n",
    "        (\"poly_features\", PolynomialFeatures(degree=3)),\n",
    "        (\"scaler\", StandardScaler()),\n",
    "        (\"svm_clf\", LinearSVC(C=10, loss=\"hinge\", random_state=42))\n",
    "    ])\n",
    "\n",
    "polynomial_svm_clf.fit(X, y)"
   ]
  },
  {
   "cell_type": "code",
   "execution_count": 10,
   "metadata": {},
   "outputs": [
    {
     "data": {
      "image/png": "[encoded data removed]",
      "text/plain": [
       "<Figure size 432x288 with 1 Axes>"
      ]
     },
     "metadata": {
      "needs_background": "light"
     },
     "output_type": "display_data"
    }
   ],
   "source": [
    "def plot_predictions(clf, axes):\n",
    "    x0s = np.linspace(axes[0], axes[1], 100)\n",
    "    x1s = np.linspace(axes[2], axes[3], 100)\n",
    "    x0, x1 = np.meshgrid(x0s, x1s)\n",
    "    X = np.c_[x0.ravel(), x1.ravel()]\n",
    "    y_pred = clf.predict(X).reshape(x0.shape)\n",
    "    y_decision = clf.decision_function(X).reshape(x0.shape)\n",
    "    plt.contourf(x0, x1, y_pred, cmap=plt.cm.brg, alpha=0.2)\n",
    "    plt.contourf(x0, x1, y_decision, cmap=plt.cm.brg, alpha=0.1)\n",
    "\n",
    "plot_predictions(polynomial_svm_clf, [-1.5, 2.5, -1, 1.5])\n",
    "plot_dataset(X, y, [-1.5, 2.5, -1, 1.5])\n",
    "\n",
    "plt.show()"
   ]
  },
  {
   "cell_type": "code",
   "execution_count": 13,
   "metadata": {},
   "outputs": [
    {
     "data": {
      "text/plain": [
       "array([1, 1, 1, 0, 0, 0, 0, 1, 0, 0, 0, 0, 1, 0, 1, 0, 1, 1, 0, 0, 1, 1,\n",
       "       0, 0, 1, 0, 0, 1, 0, 1, 0, 0, 1, 0, 1, 0, 1, 1, 0, 0, 0, 0, 0, 1,\n",
       "       0, 0, 1, 0, 1, 0, 0, 0, 0, 0, 0, 1, 0, 1, 0, 1, 1, 1, 1, 0, 1, 1,\n",
       "       0, 1, 1, 1, 1, 0, 1, 0, 1, 1, 1, 0, 1, 1, 1, 1, 0, 0, 0, 1, 0, 0,\n",
       "       0, 1, 1, 1, 1, 1, 0, 1, 1, 0, 1, 1], dtype=int64)"
      ]
     },
     "execution_count": 13,
     "metadata": {},
     "output_type": "execute_result"
    }
   ],
   "source": [
    "from sklearn.svm import SVC\n"
   ]
  },
  {
   "cell_type": "code",
   "execution_count": null,
   "metadata": {},
   "outputs": [],
   "source": []
  }
 ],
 "metadata": {
  "kernelspec": {
   "display_name": "Python 3",
   "language": "python",
   "name": "python3"
  },
  "language_info": {
   "codemirror_mode": {
    "name": "ipython",
    "version": 3
   },
   "file_extension": ".py",
   "mimetype": "text/x-python",
   "name": "python",
   "nbconvert_exporter": "python",
   "pygments_lexer": "ipython3",
   "version": "3.7.3"
  }
 },
 "nbformat": 4,
 "nbformat_minor": 2
}
